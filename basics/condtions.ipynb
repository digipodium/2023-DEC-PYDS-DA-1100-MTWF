{
 "cells": [
  {
   "cell_type": "markdown",
   "metadata": {},
   "source": [
    "if"
   ]
  },
  {
   "cell_type": "code",
   "execution_count": null,
   "metadata": {},
   "outputs": [],
   "source": [
    "x = input('Enter a word:')\n",
    "print(x)\n",
    "if len(x) >= 5:\n",
    "    print('Your word is long enough.')\n",
    "print('Done.')"
   ]
  },
  {
   "cell_type": "code",
   "execution_count": null,
   "metadata": {},
   "outputs": [],
   "source": [
    "num = int(input('Enter a number:'))\n",
    "if num % 2 == 0:\n",
    "    print(f'{num} is even')\n",
    "else:\n",
    "    print(f'{num} is odd')"
   ]
  },
  {
   "cell_type": "markdown",
   "metadata": {},
   "source": [
    "nested if - else"
   ]
  },
  {
   "cell_type": "code",
   "execution_count": null,
   "metadata": {},
   "outputs": [],
   "source": [
    "x = input('enter a number')\n",
    "if x.isnumeric():\n",
    "    x = int(x)\n",
    "    if x > 100:\n",
    "        print(f'{x} is greater than 100')\n",
    "    else:\n",
    "        print(f'{x} is smaller than 100')\n",
    "else:\n",
    "    print(f'{x} is not a number')"
   ]
  },
  {
   "cell_type": "markdown",
   "metadata": {},
   "source": [
    "if elif ladder"
   ]
  },
  {
   "cell_type": "code",
   "execution_count": null,
   "metadata": {},
   "outputs": [],
   "source": [
    "print(\"welcome to the restaurant!\")\n",
    "dish = input(\"enter the dish name:\")\n",
    "if dish == 'dosa':\n",
    "    print(\"🌮south indian dosa => 75.00 INR\")\n",
    "elif dish == 'pizza':\n",
    "    print(\"🍕italian pizza => 350.00 INR\")\n",
    "elif dish == 'burger':\n",
    "    print(\"🍔american burger => 150.00 INR\")\n",
    "else:\n",
    "    print(\"Sorry! We don't have that dish.\")"
   ]
  },
  {
   "cell_type": "markdown",
   "metadata": {},
   "source": [
    "match case (similar to switch case)"
   ]
  },
  {
   "cell_type": "code",
   "execution_count": null,
   "metadata": {},
   "outputs": [],
   "source": [
    "print(\"The Menu:\")\n",
    "print(\"Select a category\\n1. Indian\\n2. Italian\\n3. American\")\n",
    "choice = int(input(\"Enter a number from the menu:\"))\n",
    "match choice:\n",
    "    case 1: print(\"➡️Indian Dishes\\n1. Dosa\\n2. Idli\\n3. Sambar\")\n",
    "    case 2: print(\"➡️Italian Dishes\\n1. Pizza\\n2. Pasta\\n3. Lasagna\")\n",
    "    case 3: print(\"➡️American Dishes\\n1. Burger\\n2. Hot Dog\\n3. Fries\")\n",
    "    case _: print(\"➡️Invalid category\")"
   ]
  },
  {
   "cell_type": "code",
   "execution_count": 29,
   "metadata": {},
   "outputs": [
    {
     "name": "stdout",
     "output_type": "stream",
     "text": [
      "The Menu:\n",
      "Select a category:\n",
      "-> indian\n",
      "-> italian\n",
      "-> chinese\n",
      "-> american\n",
      "\n",
      "---> Burger\n",
      "---> Hot Dog\n",
      "---> Fries\n"
     ]
    }
   ],
   "source": [
    "indian = ['Dosa', 'Idli', 'Sambar'] # list\n",
    "italian = ['Pizza', 'Pasta', 'Lasagna']\n",
    "chinese = ['Noodles', 'Fried Rice', 'Manchurian']\n",
    "american = ['Burger', 'Hot Dog', 'Fries']\n",
    "menu = ['indian', 'italian', 'chinese', 'american']\n",
    "print(\"The Menu:\")\n",
    "print(\"Select a category:\")\n",
    "for choice in menu:\n",
    "    print(\"->\",choice)\n",
    "ch = input(\"Select One:\")\n",
    "print()\n",
    "match ch:\n",
    "    case 'indian':\n",
    "        for dish in indian: print(\"--->\",dish)\n",
    "    case 'italian':\n",
    "        for dish in italian: print(\"--->\",dish)\n",
    "    case 'chinese':\n",
    "        for dish in chinese:print(\"--->\",dish)\n",
    "    case 'american':\n",
    "        for dish in american: print(\"--->\",dish)\n",
    "    case _:\n",
    "        print('->>>>>Invalid Category<<<<<<-')"
   ]
  },
  {
   "cell_type": "code",
   "execution_count": null,
   "metadata": {},
   "outputs": [],
   "source": []
  }
 ],
 "metadata": {
  "kernelspec": {
   "display_name": "base",
   "language": "python",
   "name": "python3"
  },
  "language_info": {
   "codemirror_mode": {
    "name": "ipython",
    "version": 3
   },
   "file_extension": ".py",
   "mimetype": "text/x-python",
   "name": "python",
   "nbconvert_exporter": "python",
   "pygments_lexer": "ipython3",
   "version": "3.11.7"
  }
 },
 "nbformat": 4,
 "nbformat_minor": 2
}
