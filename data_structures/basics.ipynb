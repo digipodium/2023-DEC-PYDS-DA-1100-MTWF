{
 "cells": [
  {
   "cell_type": "code",
   "execution_count": null,
   "metadata": {},
   "outputs": [],
   "source": [
    "a = 10 # normal variable\n",
    "b = 5\n",
    "c = ['red','green','blue'] # data structure"
   ]
  },
  {
   "cell_type": "markdown",
   "metadata": {},
   "source": [
    "### data structures\n",
    "`all data structures are heterogenous`\n",
    "- list\n",
    "    - mutable, ordered, duplicates allowed, `list()`, `[ ]`\n",
    "- tuple\n",
    "    - immutable, ordered, duplicates allowed, `tuple()`, `( )`\n",
    "- set\n",
    "    - mutable, unordered, no duplicates (unique elements), `set()`, `{ }`\n",
    "- dictionary\n",
    "    - mutable, ordered, no duplicates keys (unique keys), `dict()`, `{k:v}`"
   ]
  },
  {
   "cell_type": "markdown",
   "metadata": {},
   "source": [
    "## 1. creation"
   ]
  },
  {
   "cell_type": "code",
   "execution_count": 14,
   "metadata": {},
   "outputs": [
    {
     "name": "stdout",
     "output_type": "stream",
     "text": [
      "[10, 20, 'red', True, 3.14159, 10] <class 'list'>\n",
      "(1, 2, 3, 4, 5, 'apple', 2) <class 'tuple'>\n",
      "{1, 2, 3, 4, 5} <class 'set'>\n",
      "{'title': 'Samosa', 'price': 10, 'qty': 5} <class 'dict'>\n"
     ]
    }
   ],
   "source": [
    "x1 = [10, 20, 'red', True, 3.14159, 10]\n",
    "print(x1, type(x1))\n",
    "x2 = (1, 2, 3, 4, 5, 'apple', 2)\n",
    "print(x2, type(x2))\n",
    "x3 = {1, 2, 3, 4, 5, 2}\n",
    "print(x3, type(x3))\n",
    "x4 = {'title':'Samosa', 'price':10, 'qty':5}\n",
    "print(x4, type(x4))"
   ]
  },
  {
   "cell_type": "markdown",
   "metadata": {},
   "source": [
    "## 2. accessing elements"
   ]
  },
  {
   "cell_type": "code",
   "execution_count": 13,
   "metadata": {},
   "outputs": [
    {
     "name": "stdout",
     "output_type": "stream",
     "text": [
      "Getting items from list\n",
      "First element: 10\n",
      "Second element: 20\n",
      "Third element: red\n",
      "Last element: 10\n",
      "--------------------\n",
      "Getting items from tuple\n",
      "First element: 1\n",
      "Second element: 2\n",
      "Last element: 2\n",
      "--------------------\n",
      "Getting items from set\n",
      "⚠️We cannot, as sets are unordered\n",
      "--------------------\n",
      "Getting items from dict\n",
      "Title Samosa\n",
      "Price 10\n",
      "Quantity 5\n"
     ]
    }
   ],
   "source": [
    "print('Getting items from list')\n",
    "print('First element:', x1[0])\n",
    "print('Second element:', x1[1])\n",
    "print('Third element:', x1[2])\n",
    "print('Last element:', x1[-1])\n",
    "print('--' * 10)\n",
    "print('Getting items from tuple')\n",
    "print('First element:', x2[0])\n",
    "print('Second element:', x2[1])\n",
    "print('Last element:', x2[-1])\n",
    "print('--' * 10)\n",
    "print('Getting items from set')\n",
    "print('⚠️We cannot, as sets are unordered')\n",
    "print('--' * 10)\n",
    "print('Getting items from dict')\n",
    "print('Title', x4['title']) # normal way\n",
    "print('Price', x4['price'])\n",
    "print('Quantity', x4.get('qty')) # better way"
   ]
  },
  {
   "cell_type": "markdown",
   "metadata": {},
   "source": [
    "## 3. Updating elements"
   ]
  },
  {
   "cell_type": "code",
   "execution_count": 22,
   "metadata": {},
   "outputs": [
    {
     "name": "stdout",
     "output_type": "stream",
     "text": [
      "Changing values in list\n",
      "[100, 20, 'red', True, 3.14159, 'yellow']\n",
      "[100, 20, 'red', True, 3.14159, 'yellow']\n",
      "--------------------\n",
      "Changing values in tuple\n",
      "⚠️We cannot, as tuples are immutable\n",
      "--------------------\n",
      "Changing values in set\n",
      "⚠️We cannot, as sets are unordered\n",
      "--------------------\n",
      "Changing values in dict\n",
      "{'title': 'Samosa Burger', 'price': 10, 'qty': 5}\n",
      "{'title': 'Samosa Burger', 'price': 50, 'qty': 5}\n"
     ]
    }
   ],
   "source": [
    "print('Changing values in list')\n",
    "x1[0] = 100\n",
    "print(x1)\n",
    "x1[-1]= 'yellow'\n",
    "print(x1)\n",
    "print('--' * 10)\n",
    "print('Changing values in tuple')\n",
    "print('⚠️We cannot, as tuples are immutable')\n",
    "print('--' * 10)\n",
    "print('Changing values in set')\n",
    "print('⚠️We cannot, as sets are unordered')\n",
    "print('--' * 10)\n",
    "print('Changing values in dict')\n",
    "x4['title'] = 'Samosa Burger'\n",
    "print(x4)\n",
    "x4['price'] = 50\n",
    "print(x4)"
   ]
  },
  {
   "cell_type": "code",
   "execution_count": null,
   "metadata": {},
   "outputs": [],
   "source": []
  }
 ],
 "metadata": {
  "kernelspec": {
   "display_name": "base",
   "language": "python",
   "name": "python3"
  },
  "language_info": {
   "codemirror_mode": {
    "name": "ipython",
    "version": 3
   },
   "file_extension": ".py",
   "mimetype": "text/x-python",
   "name": "python",
   "nbconvert_exporter": "python",
   "pygments_lexer": "ipython3",
   "version": "3.11.7"
  }
 },
 "nbformat": 4,
 "nbformat_minor": 2
}
