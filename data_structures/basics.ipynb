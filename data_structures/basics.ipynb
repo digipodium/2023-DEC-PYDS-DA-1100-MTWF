{
 "cells": [
  {
   "cell_type": "code",
   "execution_count": null,
   "metadata": {},
   "outputs": [],
   "source": [
    "a = 10 # normal variable\n",
    "b = 5\n",
    "c = ['red','green','blue'] # data structure"
   ]
  },
  {
   "cell_type": "markdown",
   "metadata": {},
   "source": [
    "### data structures\n",
    "`all data structures are heterogenous`\n",
    "- list\n",
    "    - mutable, ordered, duplicates allowed, `list()`, `[ ]`\n",
    "- tuple\n",
    "    - immutable, ordered, duplicates allowed, `tuple()`, `( )`\n",
    "- set\n",
    "    - mutable, unordered, no duplicates (unique elements), `set()`, `{ }`\n",
    "- dictionary\n",
    "    - mutable, ordered, no duplicates keys (unique keys), `dict()`, `{k:v}`"
   ]
  },
  {
   "cell_type": "markdown",
   "metadata": {},
   "source": [
    "## 1. creation"
   ]
  },
  {
   "cell_type": "code",
   "execution_count": null,
   "metadata": {},
   "outputs": [],
   "source": [
    "x1 = [10, 20, 'red', True, 3.14159, 10]\n",
    "print(x1, type(x1))\n",
    "x2 = (1, 2, 3, 4, 5, 'apple', 2)\n",
    "print(x2, type(x2))\n",
    "x3 = {1, 2, 3, 4, 5, 2}\n",
    "print(x3, type(x3))\n",
    "x4 = {'title':'Samosa', 'price':10, 'qty':5}\n",
    "print(x4, type(x4))"
   ]
  },
  {
   "cell_type": "markdown",
   "metadata": {},
   "source": [
    "## 2. accessing elements"
   ]
  },
  {
   "cell_type": "code",
   "execution_count": null,
   "metadata": {},
   "outputs": [],
   "source": [
    "print('Getting items from list')\n",
    "print('First element:', x1[0])\n",
    "print('Second element:', x1[1])\n",
    "print('Third element:', x1[2])\n",
    "print('Last element:', x1[-1])\n",
    "print('--' * 10)\n",
    "print('Getting items from tuple')\n",
    "print('First element:', x2[0])\n",
    "print('Second element:', x2[1])\n",
    "print('Last element:', x2[-1])\n",
    "print('--' * 10)\n",
    "print('Getting items from set')\n",
    "print('⚠️We cannot, as sets are unordered')\n",
    "print('--' * 10)\n",
    "print('Getting items from dict')\n",
    "print('Title', x4['title']) # normal way\n",
    "print('Price', x4['price'])\n",
    "print('Quantity', x4.get('qty')) # better way"
   ]
  },
  {
   "cell_type": "markdown",
   "metadata": {},
   "source": [
    "## 3. Updating elements"
   ]
  },
  {
   "cell_type": "code",
   "execution_count": null,
   "metadata": {},
   "outputs": [],
   "source": [
    "print('Changing values in list')\n",
    "x1[0] = 100\n",
    "print(x1)\n",
    "x1[-1]= 'yellow'\n",
    "print(x1)\n",
    "print('--' * 10)\n",
    "print('Changing values in tuple')\n",
    "print('⚠️We cannot, as tuples are immutable')\n",
    "print('--' * 10)\n",
    "print('Changing values in set')\n",
    "print('⚠️We cannot, as sets are unordered')\n",
    "print('--' * 10)\n",
    "print('Changing values in dict')\n",
    "x4['title'] = 'Samosa Burger'\n",
    "print(x4)\n",
    "x4['price'] = 50\n",
    "print(x4)"
   ]
  },
  {
   "cell_type": "markdown",
   "metadata": {},
   "source": [
    "## 4. Adding elements"
   ]
  },
  {
   "cell_type": "code",
   "execution_count": null,
   "metadata": {},
   "outputs": [],
   "source": [
    "# list\n",
    "x = [1,2,3]\n",
    "x.append(10)\n",
    "print(x)"
   ]
  },
  {
   "cell_type": "code",
   "execution_count": null,
   "metadata": {},
   "outputs": [],
   "source": [
    "# list\n",
    "x.insert(1,100)\n",
    "print(x)"
   ]
  },
  {
   "cell_type": "code",
   "execution_count": null,
   "metadata": {},
   "outputs": [],
   "source": [
    "# set\n",
    "a = {'apple','banana','cherry'}\n",
    "a.add('dragonfruit')\n",
    "print(a)"
   ]
  },
  {
   "cell_type": "code",
   "execution_count": null,
   "metadata": {},
   "outputs": [],
   "source": [
    "# dict\n",
    "b = {'name': 'raju'}\n",
    "b['school'] = 'cms' # adding key and value\n",
    "print(b)"
   ]
  },
  {
   "cell_type": "markdown",
   "metadata": {},
   "source": [
    "## 5. Removing Elements"
   ]
  },
  {
   "cell_type": "code",
   "execution_count": null,
   "metadata": {},
   "outputs": [],
   "source": [
    "print('list')\n",
    "print(x)\n",
    "x.remove(100) # will remove the value 100 from list\n",
    "print(x)\n",
    "x.pop(0) # will remove the value at index 0\n",
    "print(x)\n",
    "x.pop() # will remove the last value\n",
    "print(x)\n"
   ]
  },
  {
   "cell_type": "code",
   "execution_count": null,
   "metadata": {},
   "outputs": [],
   "source": [
    "# set\n",
    "print(a)\n",
    "a.discard('apple') # better -> doesnot give error\n",
    "print(a)\n",
    "a.remove('banana')\n",
    "print(a)"
   ]
  },
  {
   "cell_type": "code",
   "execution_count": null,
   "metadata": {},
   "outputs": [],
   "source": [
    "# dict\n",
    "print(b)\n",
    "b.pop('school')\n",
    "print(b)"
   ]
  },
  {
   "cell_type": "markdown",
   "metadata": {},
   "source": [
    "1. create a list of 10 movies, each movie will be added by user\n",
    "2. create a tuple of 10 random numbers\n",
    "3. create 2 sets of flowers with 10 items each. create empty set as `f1 = set()`, then add data\n",
    "4. create a dictionary for storing employee data, there should be 8 keys and values"
   ]
  },
  {
   "cell_type": "code",
   "execution_count": null,
   "metadata": {},
   "outputs": [],
   "source": [
    "movies = []\n",
    "for i in range(10):\n",
    "    name =  input('enter a movie =>')\n",
    "    movies.append(name)\n",
    "print(movies)"
   ]
  },
  {
   "cell_type": "code",
   "execution_count": null,
   "metadata": {},
   "outputs": [],
   "source": [
    "t = (1,2,3,3,41,1,2,2,3,4,5)\n",
    "print(t)"
   ]
  },
  {
   "cell_type": "code",
   "execution_count": null,
   "metadata": {},
   "outputs": [],
   "source": [
    "f1 = set()\n",
    "f1.add('lotus')\n",
    "f1.add('rose')\n",
    "f1.add('lily')\n",
    "f1.add('dahalia')\n",
    "f1.add('lavender')\n",
    "f1.add('tulip')\n",
    "f1.add('sunflower')\n",
    "f1.add('marigold')\n",
    "f1.add('daisy')\n",
    "f1.add('crysanthenum')\n",
    "f2 = set()\n",
    "f2.add('rose')\n",
    "f2.add('lily')\n",
    "f2.add('dahalia')\n",
    "f2.add('iris')\n",
    "f2.add('tulip')\n",
    "f2.add('sunflower')\n",
    "f2.add('marigold')\n",
    "f2.add('daisy')\n",
    "f2.add('crysanthenum')\n",
    "f2.add('lotus')\n",
    "print(f1)\n",
    "print(f2)"
   ]
  },
  {
   "cell_type": "markdown",
   "metadata": {},
   "source": [
    "## 5. searching in a list, tuple, set"
   ]
  },
  {
   "cell_type": "code",
   "execution_count": null,
   "metadata": {},
   "outputs": [],
   "source": [
    "x = [12,45,56,7,2,1,23]\n",
    "s = 13\n",
    "# basic searching common in list, tuple, set\n",
    "for i in x:\n",
    "    if i == s:\n",
    "        print(f'found {s}')\n",
    "        break\n",
    "else:\n",
    "    print(f'{s} not found')\n",
    "\n",
    "# better searching in list, tuple and set\n",
    "if s in x:\n",
    "    print(f'found {s}')\n",
    "else:\n",
    "    print(f'{s} not found')"
   ]
  },
  {
   "cell_type": "markdown",
   "metadata": {},
   "source": [
    "## 6. searching in dict"
   ]
  },
  {
   "cell_type": "code",
   "execution_count": null,
   "metadata": {},
   "outputs": [],
   "source": [
    "std = {'name':'chaman', 'age':12, 'class':7, 'school':'cms'}\n",
    "# searching if key exists in dict\n",
    "if 'addr' in std:\n",
    "    print(std['addr'])\n",
    "else:\n",
    "    print('addr not found')\n",
    "\n",
    "# searching if value exists in dict\n",
    "if 12 in std.values(): # .values() returns a list of all values\n",
    "    print('12 exists')\n",
    "else:\n",
    "    print('12 not found')"
   ]
  },
  {
   "cell_type": "markdown",
   "metadata": {},
   "source": [
    "## 7. sorting\n",
    "- note: sorting is done in list using `sort()` method or `sorted()` function\n",
    "- note: sorting is not possible in `tuple` as it is `immutable`\n",
    "- note: sorting is not possible in `set` as it is `unordered`\n",
    "- note: sorting is possible but with `lambda function` in `dict`"
   ]
  },
  {
   "cell_type": "code",
   "execution_count": null,
   "metadata": {},
   "outputs": [],
   "source": [
    "x = [12,45,1,2,4,6,23,1]\n",
    "print(x)\n",
    "# temporary sorting\n",
    "print('temporary sorting')\n",
    "print(sorted(x)) # used less\n",
    "print(x)\n",
    "# permanent sorting\n",
    "print('permament sorting')\n",
    "x.sort() # used more\n",
    "print(x)\n",
    "x.sort(reverse=True)\n",
    "print(x)"
   ]
  },
  {
   "cell_type": "code",
   "execution_count": 23,
   "metadata": {},
   "outputs": [
    {
     "name": "stdout",
     "output_type": "stream",
     "text": [
      "{'name': 'chaman', 'age': 12, 'class': 7, 'school': 'cms'}\n",
      "['age', 'class', 'name', 'school']\n"
     ]
    }
   ],
   "source": [
    "print(std)\n",
    "# sorting with keys\n",
    "print(sorted(std)) # gives a list of keys"
   ]
  },
  {
   "cell_type": "code",
   "execution_count": 35,
   "metadata": {},
   "outputs": [
    {
     "name": "stdout",
     "output_type": "stream",
     "text": [
      "{'banana': 50, 'apple': 100, 'kiwi': 150, 'cherry': 200, 'dragonfruit': 500}\n",
      "{'dragonfruit': 500, 'cherry': 200, 'kiwi': 150, 'apple': 100, 'banana': 50}\n"
     ]
    }
   ],
   "source": [
    "prices = {\n",
    "    'apple': 100,\n",
    "    'banana': 50,\n",
    "    'cherry': 200,\n",
    "    'dragonfruit': 500,\n",
    "    'kiwi': 150\n",
    "}\n",
    "\n",
    "# sorting dict based on values\n",
    "result = sorted(prices.items(), key= lambda item: item[1])\n",
    "print(dict(result))\n",
    "# reverse sorting\n",
    "result = sorted(prices.items(), key= lambda item: item[1], reverse=True)\n",
    "print(dict(result))"
   ]
  },
  {
   "cell_type": "code",
   "execution_count": null,
   "metadata": {},
   "outputs": [],
   "source": []
  }
 ],
 "metadata": {
  "kernelspec": {
   "display_name": "base",
   "language": "python",
   "name": "python3"
  },
  "language_info": {
   "codemirror_mode": {
    "name": "ipython",
    "version": 3
   },
   "file_extension": ".py",
   "mimetype": "text/x-python",
   "name": "python",
   "nbconvert_exporter": "python",
   "pygments_lexer": "ipython3",
   "version": "3.11.7"
  }
 },
 "nbformat": 4,
 "nbformat_minor": 2
}
