{
 "cells": [
  {
   "cell_type": "code",
   "execution_count": 34,
   "metadata": {},
   "outputs": [],
   "source": [
    "a = 10 # normal variable\n",
    "b = 5\n",
    "c = ['red','green','blue'] # data structure"
   ]
  },
  {
   "cell_type": "markdown",
   "metadata": {},
   "source": [
    "### data structures\n",
    "`all data structures are heterogenous`\n",
    "- list\n",
    "    - mutable, ordered, duplicates allowed, `list()`, `[ ]`\n",
    "- tuple\n",
    "    - immutable, ordered, duplicates allowed, `tuple()`, `( )`\n",
    "- set\n",
    "    - mutable, unordered, no duplicates (unique elements), `set()`, `{ }`\n",
    "- dictionary\n",
    "    - mutable, ordered, no duplicates keys (unique keys), `dict()`, `{k:v}`"
   ]
  },
  {
   "cell_type": "markdown",
   "metadata": {},
   "source": [
    "## 1. creation"
   ]
  },
  {
   "cell_type": "code",
   "execution_count": 35,
   "metadata": {},
   "outputs": [
    {
     "name": "stdout",
     "output_type": "stream",
     "text": [
      "[10, 20, 'red', True, 3.14159, 10] <class 'list'>\n",
      "(1, 2, 3, 4, 5, 'apple', 2) <class 'tuple'>\n",
      "{1, 2, 3, 4, 5} <class 'set'>\n",
      "{'title': 'Samosa', 'price': 10, 'qty': 5} <class 'dict'>\n"
     ]
    }
   ],
   "source": [
    "x1 = [10, 20, 'red', True, 3.14159, 10]\n",
    "print(x1, type(x1))\n",
    "x2 = (1, 2, 3, 4, 5, 'apple', 2)\n",
    "print(x2, type(x2))\n",
    "x3 = {1, 2, 3, 4, 5, 2}\n",
    "print(x3, type(x3))\n",
    "x4 = {'title':'Samosa', 'price':10, 'qty':5}\n",
    "print(x4, type(x4))"
   ]
  },
  {
   "cell_type": "markdown",
   "metadata": {},
   "source": [
    "## 2. accessing elements"
   ]
  },
  {
   "cell_type": "code",
   "execution_count": 36,
   "metadata": {},
   "outputs": [
    {
     "name": "stdout",
     "output_type": "stream",
     "text": [
      "Getting items from list\n",
      "First element: 10\n",
      "Second element: 20\n",
      "Third element: red\n",
      "Last element: 10\n",
      "--------------------\n",
      "Getting items from tuple\n",
      "First element: 1\n",
      "Second element: 2\n",
      "Last element: 2\n",
      "--------------------\n",
      "Getting items from set\n",
      "⚠️We cannot, as sets are unordered\n",
      "--------------------\n",
      "Getting items from dict\n",
      "Title Samosa\n",
      "Price 10\n",
      "Quantity 5\n"
     ]
    }
   ],
   "source": [
    "print('Getting items from list')\n",
    "print('First element:', x1[0])\n",
    "print('Second element:', x1[1])\n",
    "print('Third element:', x1[2])\n",
    "print('Last element:', x1[-1])\n",
    "print('--' * 10)\n",
    "print('Getting items from tuple')\n",
    "print('First element:', x2[0])\n",
    "print('Second element:', x2[1])\n",
    "print('Last element:', x2[-1])\n",
    "print('--' * 10)\n",
    "print('Getting items from set')\n",
    "print('⚠️We cannot, as sets are unordered')\n",
    "print('--' * 10)\n",
    "print('Getting items from dict')\n",
    "print('Title', x4['title']) # normal way\n",
    "print('Price', x4['price'])\n",
    "print('Quantity', x4.get('qty')) # better way"
   ]
  },
  {
   "cell_type": "markdown",
   "metadata": {},
   "source": [
    "## 3. Updating elements"
   ]
  },
  {
   "cell_type": "code",
   "execution_count": 37,
   "metadata": {},
   "outputs": [
    {
     "name": "stdout",
     "output_type": "stream",
     "text": [
      "Changing values in list\n",
      "[100, 20, 'red', True, 3.14159, 10]\n",
      "[100, 20, 'red', True, 3.14159, 'yellow']\n",
      "--------------------\n",
      "Changing values in tuple\n",
      "⚠️We cannot, as tuples are immutable\n",
      "--------------------\n",
      "Changing values in set\n",
      "⚠️We cannot, as sets are unordered\n",
      "--------------------\n",
      "Changing values in dict\n",
      "{'title': 'Samosa Burger', 'price': 10, 'qty': 5}\n",
      "{'title': 'Samosa Burger', 'price': 50, 'qty': 5}\n"
     ]
    }
   ],
   "source": [
    "print('Changing values in list')\n",
    "x1[0] = 100\n",
    "print(x1)\n",
    "x1[-1]= 'yellow'\n",
    "print(x1)\n",
    "print('--' * 10)\n",
    "print('Changing values in tuple')\n",
    "print('⚠️We cannot, as tuples are immutable')\n",
    "print('--' * 10)\n",
    "print('Changing values in set')\n",
    "print('⚠️We cannot, as sets are unordered')\n",
    "print('--' * 10)\n",
    "print('Changing values in dict')\n",
    "x4['title'] = 'Samosa Burger'\n",
    "print(x4)\n",
    "x4['price'] = 50\n",
    "print(x4)"
   ]
  },
  {
   "cell_type": "markdown",
   "metadata": {},
   "source": [
    "## 4. Adding elements"
   ]
  },
  {
   "cell_type": "code",
   "execution_count": 38,
   "metadata": {},
   "outputs": [
    {
     "name": "stdout",
     "output_type": "stream",
     "text": [
      "[1, 2, 3, 10]\n"
     ]
    }
   ],
   "source": [
    "# list\n",
    "x = [1,2,3]\n",
    "x.append(10)\n",
    "print(x)"
   ]
  },
  {
   "cell_type": "code",
   "execution_count": 39,
   "metadata": {},
   "outputs": [
    {
     "name": "stdout",
     "output_type": "stream",
     "text": [
      "[1, 100, 2, 3, 10]\n"
     ]
    }
   ],
   "source": [
    "# list\n",
    "x.insert(1,100)\n",
    "print(x)"
   ]
  },
  {
   "cell_type": "code",
   "execution_count": 40,
   "metadata": {},
   "outputs": [
    {
     "name": "stdout",
     "output_type": "stream",
     "text": [
      "{'dragonfruit', 'cherry', 'banana', 'apple'}\n"
     ]
    }
   ],
   "source": [
    "# set\n",
    "a = {'apple','banana','cherry'}\n",
    "a.add('dragonfruit')\n",
    "print(a)"
   ]
  },
  {
   "cell_type": "code",
   "execution_count": 41,
   "metadata": {},
   "outputs": [
    {
     "name": "stdout",
     "output_type": "stream",
     "text": [
      "{'name': 'raju', 'school': 'cms'}\n"
     ]
    }
   ],
   "source": [
    "# dict\n",
    "b = {'name': 'raju'}\n",
    "b['school'] = 'cms' # adding key and value\n",
    "print(b)"
   ]
  },
  {
   "cell_type": "markdown",
   "metadata": {},
   "source": [
    "## 5. Removing Elements"
   ]
  },
  {
   "cell_type": "code",
   "execution_count": 42,
   "metadata": {},
   "outputs": [
    {
     "name": "stdout",
     "output_type": "stream",
     "text": [
      "list\n",
      "[1, 100, 2, 3, 10]\n",
      "[1, 2, 3, 10]\n",
      "[2, 3, 10]\n",
      "[2, 3]\n"
     ]
    }
   ],
   "source": [
    "print('list')\n",
    "print(x)\n",
    "x.remove(100) # will remove the value 100 from list\n",
    "print(x)\n",
    "x.pop(0) # will remove the value at index 0\n",
    "print(x)\n",
    "x.pop() # will remove the last value\n",
    "print(x)\n"
   ]
  },
  {
   "cell_type": "code",
   "execution_count": 43,
   "metadata": {},
   "outputs": [
    {
     "name": "stdout",
     "output_type": "stream",
     "text": [
      "{'dragonfruit', 'cherry', 'banana', 'apple'}\n",
      "{'dragonfruit', 'cherry', 'banana'}\n",
      "{'dragonfruit', 'cherry'}\n"
     ]
    }
   ],
   "source": [
    "# set\n",
    "print(a)\n",
    "a.discard('apple') # better -> doesnot give error\n",
    "print(a)\n",
    "a.remove('banana')\n",
    "print(a)"
   ]
  },
  {
   "cell_type": "code",
   "execution_count": 45,
   "metadata": {},
   "outputs": [
    {
     "name": "stdout",
     "output_type": "stream",
     "text": [
      "{'name': 'raju', 'school': 'cms'}\n",
      "{'name': 'raju'}\n"
     ]
    }
   ],
   "source": [
    "# dict\n",
    "print(b)\n",
    "b.pop('school')\n",
    "print(b)"
   ]
  },
  {
   "cell_type": "markdown",
   "metadata": {},
   "source": [
    "1. create a list of 10 movies, each movie will be added by user\n",
    "2. create a tuple of 10 random numbers\n",
    "3. create 2 sets of flowers with 10 items each. create empty set as `f1 = set()`, then add data\n",
    "4. create a dictionary for storing employee data, there should be 8 keys and values"
   ]
  },
  {
   "cell_type": "code",
   "execution_count": 46,
   "metadata": {},
   "outputs": [
    {
     "name": "stdout",
     "output_type": "stream",
     "text": [
      "['ff1', 'ff2', 'ff3', 'ff4', 'ff5', 'ff6', 'ff7', 'ff8', 'ff9', 'ff10']\n"
     ]
    }
   ],
   "source": [
    "movies = []\n",
    "for i in range(10):\n",
    "    name =  input('enter a movie =>')\n",
    "    movies.append(name)\n",
    "print(movies)"
   ]
  },
  {
   "cell_type": "code",
   "execution_count": 47,
   "metadata": {},
   "outputs": [
    {
     "name": "stdout",
     "output_type": "stream",
     "text": [
      "(1, 2, 3, 3, 41, 1, 2, 2, 3, 4, 5)\n"
     ]
    }
   ],
   "source": [
    "t = (1,2,3,3,41,1,2,2,3,4,5)\n",
    "print(t)"
   ]
  },
  {
   "cell_type": "code",
   "execution_count": 48,
   "metadata": {},
   "outputs": [
    {
     "name": "stdout",
     "output_type": "stream",
     "text": [
      "{'lavender', 'sunflower', 'tulip', 'daisy', 'rose', 'lily', 'marigold', 'crysanthenum', 'lotus', 'dahalia'}\n",
      "{'sunflower', 'tulip', 'daisy', 'rose', 'lily', 'iris', 'marigold', 'crysanthenum', 'lotus', 'dahalia'}\n"
     ]
    }
   ],
   "source": [
    "f1 = set()\n",
    "f1.add('lotus')\n",
    "f1.add('rose')\n",
    "f1.add('lily')\n",
    "f1.add('dahalia')\n",
    "f1.add('lavender')\n",
    "f1.add('tulip')\n",
    "f1.add('sunflower')\n",
    "f1.add('marigold')\n",
    "f1.add('daisy')\n",
    "f1.add('crysanthenum')\n",
    "f2 = set()\n",
    "f2.add('rose')\n",
    "f2.add('lily')\n",
    "f2.add('dahalia')\n",
    "f2.add('iris')\n",
    "f2.add('tulip')\n",
    "f2.add('sunflower')\n",
    "f2.add('marigold')\n",
    "f2.add('daisy')\n",
    "f2.add('crysanthenum')\n",
    "f2.add('lotus')\n",
    "print(f1)\n",
    "print(f2)"
   ]
  },
  {
   "cell_type": "markdown",
   "metadata": {},
   "source": [
    "## 5. searching in a list"
   ]
  },
  {
   "cell_type": "code",
   "execution_count": null,
   "metadata": {},
   "outputs": [],
   "source": []
  }
 ],
 "metadata": {
  "kernelspec": {
   "display_name": "base",
   "language": "python",
   "name": "python3"
  },
  "language_info": {
   "codemirror_mode": {
    "name": "ipython",
    "version": 3
   },
   "file_extension": ".py",
   "mimetype": "text/x-python",
   "name": "python",
   "nbconvert_exporter": "python",
   "pygments_lexer": "ipython3",
   "version": "3.11.7"
  }
 },
 "nbformat": 4,
 "nbformat_minor": 2
}
