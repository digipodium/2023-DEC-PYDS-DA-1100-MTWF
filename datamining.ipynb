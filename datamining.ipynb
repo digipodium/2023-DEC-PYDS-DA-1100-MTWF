{
 "cells": [
  {
   "cell_type": "code",
   "execution_count": null,
   "metadata": {},
   "outputs": [],
   "source": [
    "url=\"https://www.amazon.in/POCO-C55-Cool-Blue-128/dp/B0BX9WNP7W/?_encoding=UTF8&pd_rd_w=hB8OD&content-id=amzn1.sym.9e4ae409-2145-4395-aa6e-45d7f3e95c3e&pf_rd_p=9e4ae409-2145-4395-aa6e-45d7f3e95c3e&pf_rd_r=YT2KCK57MTR1ZQ28K3K3&pd_rd_wg=7HhLF&pd_rd_r=cbd15a0c-0271-49c2-aa94-139fa4ba916e&th=1\""
   ]
  },
  {
   "cell_type": "code",
   "execution_count": null,
   "metadata": {},
   "outputs": [],
   "source": [
    "from dputils.scrape import Scraper,Tag"
   ]
  },
  {
   "cell_type": "code",
   "execution_count": null,
   "metadata": {},
   "outputs": [],
   "source": [
    "title = Tag('span',id = 'productTitle')\n",
    "price = Tag('span',cls = 'a-price-whole')\n",
    "review_count = Tag('span',id = 'acrCustomerReviewText')\n",
    "features = Tag(id = 'feature-bullets')"
   ]
  },
  {
   "cell_type": "code",
   "execution_count": null,
   "metadata": {},
   "outputs": [],
   "source": [
    "s = Scraper(url)"
   ]
  },
  {
   "cell_type": "code",
   "execution_count": null,
   "metadata": {},
   "outputs": [],
   "source": [
    "s.get_page_data(title = title,price = price,review_count = review_count, features = features)"
   ]
  },
  {
   "cell_type": "code",
   "execution_count": null,
   "metadata": {},
   "outputs": [],
   "source": []
  },
  {
   "cell_type": "markdown",
   "metadata": {},
   "source": [
    "Multipage crawler - spider - bot"
   ]
  },
  {
   "cell_type": "code",
   "execution_count": null,
   "metadata": {},
   "outputs": [],
   "source": [
    "from dputils.scrape import Scraper,Tag\n",
    "# step 1. create a scraper object\n",
    "home_url = 'https://www.amazon.in/s?k=mobiles&crid=RGL5TWLCCFUP&sprefix=mobile,aps,286'\n",
    "scraper = Scraper(home_url)\n",
    "# step 2. define the tags (Target and items are required)\n",
    "target = Tag(cls='s-main-slot s-result-list s-search-results sg-row')\n",
    "items = Tag(cls='puis-card-container')\n",
    "linkTag = Tag('a',cls='a-link-normal', output='href')\n",
    "# step 3. get the links\n",
    "result = scraper.get_repeating_page_data(target=target,items=items,link=linkTag, errors=True)\n",
    "# step 4. count total links\n",
    "print(len(result))"
   ]
  },
  {
   "cell_type": "code",
   "execution_count": null,
   "metadata": {},
   "outputs": [],
   "source": [
    "# step 9. Define a variable the holds all the data\n",
    "all_data = []\n",
    "# step 5. loop through all the links\n",
    "for item in result:\n",
    "    base_url = 'https://www.amazon.in'\n",
    "    url = base_url + item['link']\n",
    "    print('visiting:',url)\n",
    "    # step 6. create a new scraper object\n",
    "    ps = Scraper(url) # ps = Product Scraper\n",
    "    # step 7. define the tags\n",
    "    title = Tag('span',id = 'productTitle')\n",
    "    price = Tag('span',cls = 'a-price-whole')\n",
    "    review_count = Tag('span',id = 'acrCustomerReviewText')\n",
    "    features = Tag(id = 'feature-bullets')\n",
    "    # step 8. get the data\n",
    "    data = ps.get_page_data(title = title,price = price,\n",
    "                            review_count = review_count, features = features)\n",
    "    # step 10. append the data to all_data\n",
    "    all_data.append(data)\n",
    "print('#'*30) # only for better visibility\n",
    "print(all_data)"
   ]
  },
  {
   "cell_type": "code",
   "execution_count": null,
   "metadata": {},
   "outputs": [],
   "source": [
    "import pandas as pd\n",
    "df = pd.DataFrame(all_data)\n",
    "df = df.dropna().reset_index(drop=True)\n",
    "df"
   ]
  },
  {
   "cell_type": "code",
   "execution_count": null,
   "metadata": {},
   "outputs": [],
   "source": [
    "# step 11. save the data to a sql database\n",
    "table_name = 'amazon_mobiles_1_apr_2024'\n",
    "db_name = 'sqlite:///scraper.db'\n",
    "df.to_sql(table_name, db_name, if_exists='replace')"
   ]
  },
  {
   "cell_type": "code",
   "execution_count": null,
   "metadata": {},
   "outputs": [],
   "source": [
    "# step 12. read the data from the database\n",
    "df = pd.read_sql_table(table_name, db_name)\n",
    "df"
   ]
  },
  {
   "cell_type": "code",
   "execution_count": 19,
   "metadata": {},
   "outputs": [],
   "source": [
    "# step 13. save the data to a csv file\n",
    "csv_file = 'amazon_mobiles_1_apr_2024.csv'\n",
    "df.to_csv(csv_file, index=False)"
   ]
  },
  {
   "cell_type": "code",
   "execution_count": null,
   "metadata": {},
   "outputs": [],
   "source": []
  }
 ],
 "metadata": {
  "kernelspec": {
   "display_name": "mlbatch24",
   "language": "python",
   "name": "python3"
  },
  "language_info": {
   "codemirror_mode": {
    "name": "ipython",
    "version": 3
   },
   "file_extension": ".py",
   "mimetype": "text/x-python",
   "name": "python",
   "nbconvert_exporter": "python",
   "pygments_lexer": "ipython3",
   "version": "3.11.8"
  }
 },
 "nbformat": 4,
 "nbformat_minor": 2
}
