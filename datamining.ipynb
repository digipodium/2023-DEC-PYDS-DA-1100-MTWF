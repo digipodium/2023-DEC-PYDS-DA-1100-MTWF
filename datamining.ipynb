{
 "cells": [
  {
   "cell_type": "code",
   "execution_count": 1,
   "metadata": {},
   "outputs": [],
   "source": [
    "url=\"https://www.amazon.in/POCO-C55-Cool-Blue-128/dp/B0BX9WNP7W/?_encoding=UTF8&pd_rd_w=hB8OD&content-id=amzn1.sym.9e4ae409-2145-4395-aa6e-45d7f3e95c3e&pf_rd_p=9e4ae409-2145-4395-aa6e-45d7f3e95c3e&pf_rd_r=YT2KCK57MTR1ZQ28K3K3&pd_rd_wg=7HhLF&pd_rd_r=cbd15a0c-0271-49c2-aa94-139fa4ba916e&th=1\""
   ]
  },
  {
   "cell_type": "code",
   "execution_count": 2,
   "metadata": {},
   "outputs": [],
   "source": [
    "from dputils.scrape import Scraper,Tag"
   ]
  },
  {
   "cell_type": "code",
   "execution_count": 12,
   "metadata": {},
   "outputs": [],
   "source": [
    "title = Tag('span',id = 'productTitle')\n",
    "price = Tag('span',cls = 'a-price-whole')\n",
    "review_count = Tag('span',id = 'acrCustomerReviewText')\n",
    "features = Tag(id = 'feature-bullets')"
   ]
  },
  {
   "cell_type": "code",
   "execution_count": null,
   "metadata": {},
   "outputs": [],
   "source": [
    "s = Scraper(url)"
   ]
  },
  {
   "cell_type": "code",
   "execution_count": 13,
   "metadata": {},
   "outputs": [
    {
     "data": {
      "text/plain": [
       "{'title': '        POCO C55 (Cool Blue, 6GB RAM, 128GB Storage)       ',\n",
       " 'price': '6,499.',\n",
       " 'review_count': '1,269',\n",
       " 'features': ' \\n About this item    Processor: High performance MediaTek G85 ; Enhance gaming with 1GHz GPU | 11GB of RAM including 5GB virtual | 6.71\" HD+ Large Display, Scratch Resistant Display with Oleophobic Coating| 50MP AI Dual camera |Fast Rear fingerprint | 5000mAh Battery | Premium Leather-like stich design | IP52 Protection    6.71\" HD+ Large display , 120 Hz touch sampling rate, Scratch Resistant Display with Oleophobic Coating    50MP AI Dual camera with Primary sensor of f/1.8 Aperture, 1.28um (4-in-1 Super Pixel) with the following modes: Photo | Portrait | Night | Video | 50MP mode | Time-lapse | filters | Movie Frame | HDR | Voice Shutter | Doccumen Mode | Tilt Shift | Timed Burst    \\n›  See more product details  '}"
      ]
     },
     "execution_count": 13,
     "metadata": {},
     "output_type": "execute_result"
    }
   ],
   "source": [
    "s.get_page_data(title = title,price = price,review_count = review_count, features = features)"
   ]
  },
  {
   "cell_type": "code",
   "execution_count": null,
   "metadata": {},
   "outputs": [],
   "source": []
  },
  {
   "cell_type": "markdown",
   "metadata": {},
   "source": [
    "Multipage crawler - spider - bot"
   ]
  },
  {
   "cell_type": "code",
   "execution_count": 19,
   "metadata": {},
   "outputs": [
    {
     "name": "stdout",
     "output_type": "stream",
     "text": [
      "Selecting a random User-Agent...\n",
      "Randomly picked browser: Firefox\n",
      "Randomly picked operating system: Linux\n",
      "🌐🌐🌐🌐🌐🌐🌐🌐🌐🌐\n",
      "User agent:  {'User-Agent': 'Mozilla/5.0 (X11; Ubuntu; Linux x86_64; rv:94.0) Gecko/20100101 Firefox/94.0'}\n",
      "Cookies:  {'session-id': '', 'session-id-time': '', 'session-token': ''}\n",
      "url:  https://www.amazon.in/s?k=mobiles&crid=RGL5TWLCCFUP&sprefix=mobile,aps,286\n",
      "🌐🌐🌐🌐🌐🌐🌐🌐🌐🌐\n"
     ]
    },
    {
     "data": {
      "text/plain": [
       "[{'link': '/sspa/click?ie=UTF8&spc=MTozODIzMjIwNjYyNzY4MDkwOjE3MTE4Nzg5ODM6c3BfYXRmOjMwMDEyMjM5NTM2ODUzMjo6MDo6&url=%2FSamsung-Galaxy-Smartphone-Titanium-Storage%2Fdp%2FB0CQYGF1QY%2Fref%3Dsr_1_1_sspa%3Fcrid%3DRGL5TWLCCFUP%26dib%3DeyJ2IjoiMSJ9.Zq0Y7G2Dd8-IZ16QAD15i-PI_4BxV9qE03mhKPRq9Ozfg3n5XMbxps4phGwq11rCNOLutWDenZ6FfN3rF1ArmPX8GIrfCwDSYDRwpEBZ85JBK6nZasiUkcb22IX5NNd9qEmJWYJLabyeCYg0OQ-8_13MSErowqiXWSJwEG0blUqe-6DofvUzNWC20Ne-JmPhbnGX6xtXRyqr6mjARPV9FvAkwhY4T7hK7eryhflctoQ.t_b5QtC2pV9FYQbg6XTdKt86HyyYR4fuNQBR-tFSozc%26dib_tag%3Dse%26keywords%3Dmobiles%26qid%3D1711878983%26sprefix%3Dmobile%252Caps%252C286%26sr%3D8-1-spons%26sp_csd%3Dd2lkZ2V0TmFtZT1zcF9hdGY%26psc%3D1'},\n",
       " {'link': '/sspa/click?ie=UTF8&spc=MTozODIzMjIwNjYyNzY4MDkwOjE3MTE4Nzg5ODM6c3BfYXRmOjMwMDAyODA1ODgzNTYzMjo6MDo6&url=%2FRedmi-12-5G-Moonstone-Silver%2Fdp%2FB0C9J97Z2D%2Fref%3Dsr_1_2_sspa%3Fcrid%3DRGL5TWLCCFUP%26dib%3DeyJ2IjoiMSJ9.Zq0Y7G2Dd8-IZ16QAD15i-PI_4BxV9qE03mhKPRq9Ozfg3n5XMbxps4phGwq11rCNOLutWDenZ6FfN3rF1ArmPX8GIrfCwDSYDRwpEBZ85JBK6nZasiUkcb22IX5NNd9qEmJWYJLabyeCYg0OQ-8_13MSErowqiXWSJwEG0blUqe-6DofvUzNWC20Ne-JmPhbnGX6xtXRyqr6mjARPV9FvAkwhY4T7hK7eryhflctoQ.t_b5QtC2pV9FYQbg6XTdKt86HyyYR4fuNQBR-tFSozc%26dib_tag%3Dse%26keywords%3Dmobiles%26qid%3D1711878983%26sprefix%3Dmobile%252Caps%252C286%26sr%3D8-2-spons%26sp_csd%3Dd2lkZ2V0TmFtZT1zcF9hdGY%26psc%3D1'},\n",
       " {'link': '/gp/bestsellers/electronics/ref=sr_bs_2_electronics_1'},\n",
       " {'link': '/Samsung-Segments-Smartphone-Octa-Core-Processor/dp/B0BZCWLJHK/ref=sr_1_4?crid=RGL5TWLCCFUP&dib=eyJ2IjoiMSJ9.Zq0Y7G2Dd8-IZ16QAD15i-PI_4BxV9qE03mhKPRq9Ozfg3n5XMbxps4phGwq11rCNOLutWDenZ6FfN3rF1ArmPX8GIrfCwDSYDRwpEBZ85JBK6nZasiUkcb22IX5NNd9qEmJWYJLabyeCYg0OQ-8_13MSErowqiXWSJwEG0blUqe-6DofvUzNWC20Ne-JmPhbnGX6xtXRyqr6mjARPV9FvAkwhY4T7hK7eryhflctoQ.t_b5QtC2pV9FYQbg6XTdKt86HyyYR4fuNQBR-tFSozc&dib_tag=se&keywords=mobiles&qid=1711878983&sprefix=mobile%2Caps%2C286&sr=8-4'},\n",
       " {'link': '/Samsung-Segments-Smartphone-Octa-Core-Processor/dp/B0BZCR6TNK/ref=sr_1_5?crid=RGL5TWLCCFUP&dib=eyJ2IjoiMSJ9.Zq0Y7G2Dd8-IZ16QAD15i-PI_4BxV9qE03mhKPRq9Ozfg3n5XMbxps4phGwq11rCNOLutWDenZ6FfN3rF1ArmPX8GIrfCwDSYDRwpEBZ85JBK6nZasiUkcb22IX5NNd9qEmJWYJLabyeCYg0OQ-8_13MSErowqiXWSJwEG0blUqe-6DofvUzNWC20Ne-JmPhbnGX6xtXRyqr6mjARPV9FvAkwhY4T7hK7eryhflctoQ.t_b5QtC2pV9FYQbg6XTdKt86HyyYR4fuNQBR-tFSozc&dib_tag=se&keywords=mobiles&qid=1711878983&sprefix=mobile%2Caps%2C286&sr=8-5'},\n",
       " {'link': '/realme-Feather-Segment-Charging-Slimmest/dp/B0CKN5LGDW/ref=sr_1_6?crid=RGL5TWLCCFUP&dib=eyJ2IjoiMSJ9.Zq0Y7G2Dd8-IZ16QAD15i-PI_4BxV9qE03mhKPRq9Ozfg3n5XMbxps4phGwq11rCNOLutWDenZ6FfN3rF1ArmPX8GIrfCwDSYDRwpEBZ85JBK6nZasiUkcb22IX5NNd9qEmJWYJLabyeCYg0OQ-8_13MSErowqiXWSJwEG0blUqe-6DofvUzNWC20Ne-JmPhbnGX6xtXRyqr6mjARPV9FvAkwhY4T7hK7eryhflctoQ.t_b5QtC2pV9FYQbg6XTdKt86HyyYR4fuNQBR-tFSozc&dib_tag=se&keywords=mobiles&qid=1711878983&sprefix=mobile%2Caps%2C286&sr=8-6'},\n",
       " {'link': '/Samsung-Segments-Smartphone-Octa-Core-Processor/dp/B0BZCSSNV7/ref=sr_1_7?crid=RGL5TWLCCFUP&dib=eyJ2IjoiMSJ9.Zq0Y7G2Dd8-IZ16QAD15i-PI_4BxV9qE03mhKPRq9Ozfg3n5XMbxps4phGwq11rCNOLutWDenZ6FfN3rF1ArmPX8GIrfCwDSYDRwpEBZ85JBK6nZasiUkcb22IX5NNd9qEmJWYJLabyeCYg0OQ-8_13MSErowqiXWSJwEG0blUqe-6DofvUzNWC20Ne-JmPhbnGX6xtXRyqr6mjARPV9FvAkwhY4T7hK7eryhflctoQ.t_b5QtC2pV9FYQbg6XTdKt86HyyYR4fuNQBR-tFSozc&dib_tag=se&keywords=mobiles&qid=1711878983&sprefix=mobile%2Caps%2C286&sr=8-7'},\n",
       " {'link': '/Starfrost-Storage-Powered-MediaTek-Display/dp/B0CMTY5P4V/ref=sr_1_8?crid=RGL5TWLCCFUP&dib=eyJ2IjoiMSJ9.Zq0Y7G2Dd8-IZ16QAD15i-PI_4BxV9qE03mhKPRq9Ozfg3n5XMbxps4phGwq11rCNOLutWDenZ6FfN3rF1ArmPX8GIrfCwDSYDRwpEBZ85JBK6nZasiUkcb22IX5NNd9qEmJWYJLabyeCYg0OQ-8_13MSErowqiXWSJwEG0blUqe-6DofvUzNWC20Ne-JmPhbnGX6xtXRyqr6mjARPV9FvAkwhY4T7hK7eryhflctoQ.t_b5QtC2pV9FYQbg6XTdKt86HyyYR4fuNQBR-tFSozc&dib_tag=se&keywords=mobiles&qid=1711878983&sprefix=mobile%2Caps%2C286&sr=8-8'},\n",
       " {'link': '/Redmi-Sea-Green-64GB-Storage/dp/B0C74PD9VG/ref=sr_1_9?crid=RGL5TWLCCFUP&dib=eyJ2IjoiMSJ9.Zq0Y7G2Dd8-IZ16QAD15i-PI_4BxV9qE03mhKPRq9Ozfg3n5XMbxps4phGwq11rCNOLutWDenZ6FfN3rF1ArmPX8GIrfCwDSYDRwpEBZ85JBK6nZasiUkcb22IX5NNd9qEmJWYJLabyeCYg0OQ-8_13MSErowqiXWSJwEG0blUqe-6DofvUzNWC20Ne-JmPhbnGX6xtXRyqr6mjARPV9FvAkwhY4T7hK7eryhflctoQ.t_b5QtC2pV9FYQbg6XTdKt86HyyYR4fuNQBR-tFSozc&dib_tag=se&keywords=mobiles&qid=1711878983&sprefix=mobile%2Caps%2C286&sr=8-9'},\n",
       " {'link': '/Lava-Blaze-5G-Green-Expandable/dp/B0CBRR54KF/ref=sr_1_10?crid=RGL5TWLCCFUP&dib=eyJ2IjoiMSJ9.Zq0Y7G2Dd8-IZ16QAD15i-PI_4BxV9qE03mhKPRq9Ozfg3n5XMbxps4phGwq11rCNOLutWDenZ6FfN3rF1ArmPX8GIrfCwDSYDRwpEBZ85JBK6nZasiUkcb22IX5NNd9qEmJWYJLabyeCYg0OQ-8_13MSErowqiXWSJwEG0blUqe-6DofvUzNWC20Ne-JmPhbnGX6xtXRyqr6mjARPV9FvAkwhY4T7hK7eryhflctoQ.t_b5QtC2pV9FYQbg6XTdKt86HyyYR4fuNQBR-tFSozc&dib_tag=se&keywords=mobiles&qid=1711878983&sprefix=mobile%2Caps%2C286&sr=8-10'},\n",
       " {'link': '/sspa/click?ie=UTF8&spc=MTozODIzMjIwNjYyNzY4MDkwOjE3MTE4Nzg5ODM6c3BfbXRmOjMwMDE0ODQxMjcyMTUzMjo6MDo6&url=%2Frealme-narzo-Pro-128-Green%2Fdp%2FB0CHQKRVMQ%2Fref%3Dsr_1_11_sspa%3Fcrid%3DRGL5TWLCCFUP%26dib%3DeyJ2IjoiMSJ9.Zq0Y7G2Dd8-IZ16QAD15i-PI_4BxV9qE03mhKPRq9Ozfg3n5XMbxps4phGwq11rCNOLutWDenZ6FfN3rF1ArmPX8GIrfCwDSYDRwpEBZ85JBK6nZasiUkcb22IX5NNd9qEmJWYJLabyeCYg0OQ-8_13MSErowqiXWSJwEG0blUqe-6DofvUzNWC20Ne-JmPhbnGX6xtXRyqr6mjARPV9FvAkwhY4T7hK7eryhflctoQ.t_b5QtC2pV9FYQbg6XTdKt86HyyYR4fuNQBR-tFSozc%26dib_tag%3Dse%26keywords%3Dmobiles%26qid%3D1711878983%26sprefix%3Dmobile%252Caps%252C286%26sr%3D8-11-spons%26sp_csd%3Dd2lkZ2V0TmFtZT1zcF9tdGY%26psc%3D1'},\n",
       " {'link': '/sspa/click?ie=UTF8&spc=MTozODIzMjIwNjYyNzY4MDkwOjE3MTE4Nzg5ODM6c3BfbXRmOjMwMDE1MjgxMDc0NDczMjo6MDo6&url=%2FRedmi-Arctic-Storage-Flagship-TurboCharge%2Fdp%2FB0CRQFGKXG%2Fref%3Dsr_1_12_sspa%3Fcrid%3DRGL5TWLCCFUP%26dib%3DeyJ2IjoiMSJ9.Zq0Y7G2Dd8-IZ16QAD15i-PI_4BxV9qE03mhKPRq9Ozfg3n5XMbxps4phGwq11rCNOLutWDenZ6FfN3rF1ArmPX8GIrfCwDSYDRwpEBZ85JBK6nZasiUkcb22IX5NNd9qEmJWYJLabyeCYg0OQ-8_13MSErowqiXWSJwEG0blUqe-6DofvUzNWC20Ne-JmPhbnGX6xtXRyqr6mjARPV9FvAkwhY4T7hK7eryhflctoQ.t_b5QtC2pV9FYQbg6XTdKt86HyyYR4fuNQBR-tFSozc%26dib_tag%3Dse%26keywords%3Dmobiles%26qid%3D1711878983%26sprefix%3Dmobile%252Caps%252C286%26sr%3D8-12-spons%26sp_csd%3Dd2lkZ2V0TmFtZT1zcF9tdGY%26psc%3D1'},\n",
       " {'link': '/realme-Woodland-Portrait-SUPERVOOC-Speakers/dp/B0CX213ZZM/ref=sr_1_13?crid=RGL5TWLCCFUP&dib=eyJ2IjoiMSJ9.Zq0Y7G2Dd8-IZ16QAD15i-PI_4BxV9qE03mhKPRq9Ozfg3n5XMbxps4phGwq11rCNOLutWDenZ6FfN3rF1ArmPX8GIrfCwDSYDRwpEBZ85JBK6nZasiUkcb22IX5NNd9qEmJWYJLabyeCYg0OQ-8_13MSErowqiXWSJwEG0blUqe-6DofvUzNWC20Ne-JmPhbnGX6xtXRyqr6mjARPV9FvAkwhY4T7hK7eryhflctoQ.t_b5QtC2pV9FYQbg6XTdKt86HyyYR4fuNQBR-tFSozc&dib_tag=se&keywords=mobiles&qid=1711878983&sprefix=mobile%2Caps%2C286&sr=8-13'},\n",
       " {'link': '/Redmi-Startrail-Storage-MediaTek-Dimensity/dp/B0CNX7BZ7R/ref=sr_1_14?crid=RGL5TWLCCFUP&dib=eyJ2IjoiMSJ9.Zq0Y7G2Dd8-IZ16QAD15i-PI_4BxV9qE03mhKPRq9Ozfg3n5XMbxps4phGwq11rCNOLutWDenZ6FfN3rF1ArmPX8GIrfCwDSYDRwpEBZ85JBK6nZasiUkcb22IX5NNd9qEmJWYJLabyeCYg0OQ-8_13MSErowqiXWSJwEG0blUqe-6DofvUzNWC20Ne-JmPhbnGX6xtXRyqr6mjARPV9FvAkwhY4T7hK7eryhflctoQ.t_b5QtC2pV9FYQbg6XTdKt86HyyYR4fuNQBR-tFSozc&dib_tag=se&keywords=mobiles&qid=1711878983&sprefix=mobile%2Caps%2C286&sr=8-14'},\n",
       " {'link': '/Motorola-Power-Glacier-128GB-Storage/dp/B0CV49HRGW/ref=sr_1_15?crid=RGL5TWLCCFUP&dib=eyJ2IjoiMSJ9.Zq0Y7G2Dd8-IZ16QAD15i-PI_4BxV9qE03mhKPRq9Ozfg3n5XMbxps4phGwq11rCNOLutWDenZ6FfN3rF1ArmPX8GIrfCwDSYDRwpEBZ85JBK6nZasiUkcb22IX5NNd9qEmJWYJLabyeCYg0OQ-8_13MSErowqiXWSJwEG0blUqe-6DofvUzNWC20Ne-JmPhbnGX6xtXRyqr6mjARPV9FvAkwhY4T7hK7eryhflctoQ.t_b5QtC2pV9FYQbg6XTdKt86HyyYR4fuNQBR-tFSozc&dib_tag=se&keywords=mobiles&qid=1711878983&sprefix=mobile%2Caps%2C286&sr=8-15'},\n",
       " {'link': '/Stardust-Storage-Powered-MediaTek-Display/dp/B0CMTW9MVK/ref=sr_1_16?crid=RGL5TWLCCFUP&dib=eyJ2IjoiMSJ9.Zq0Y7G2Dd8-IZ16QAD15i-PI_4BxV9qE03mhKPRq9Ozfg3n5XMbxps4phGwq11rCNOLutWDenZ6FfN3rF1ArmPX8GIrfCwDSYDRwpEBZ85JBK6nZasiUkcb22IX5NNd9qEmJWYJLabyeCYg0OQ-8_13MSErowqiXWSJwEG0blUqe-6DofvUzNWC20Ne-JmPhbnGX6xtXRyqr6mjARPV9FvAkwhY4T7hK7eryhflctoQ.t_b5QtC2pV9FYQbg6XTdKt86HyyYR4fuNQBR-tFSozc&dib_tag=se&keywords=mobiles&qid=1711878983&sprefix=mobile%2Caps%2C286&sr=8-16'},\n",
       " {'link': '/Storage-Battery-SUPERVOOC-Additional-Exchange/dp/B0CPS7PHNF/ref=sr_1_17?crid=RGL5TWLCCFUP&dib=eyJ2IjoiMSJ9.Zq0Y7G2Dd8-IZ16QAD15i-PI_4BxV9qE03mhKPRq9Ozfg3n5XMbxps4phGwq11rCNOLutWDenZ6FfN3rF1ArmPX8GIrfCwDSYDRwpEBZ85JBK6nZasiUkcb22IX5NNd9qEmJWYJLabyeCYg0OQ-8_13MSErowqiXWSJwEG0blUqe-6DofvUzNWC20Ne-JmPhbnGX6xtXRyqr6mjARPV9FvAkwhY4T7hK7eryhflctoQ.t_b5QtC2pV9FYQbg6XTdKt86HyyYR4fuNQBR-tFSozc&dib_tag=se&keywords=mobiles&qid=1711878983&sprefix=mobile%2Caps%2C286&sr=8-17'},\n",
       " {'link': '/Redmi-Storage-Bezel-Less-Slimmest-Pro-Grade/dp/B0CQPHWB81/ref=sr_1_18?crid=RGL5TWLCCFUP&dib=eyJ2IjoiMSJ9.Zq0Y7G2Dd8-IZ16QAD15i-PI_4BxV9qE03mhKPRq9Ozfg3n5XMbxps4phGwq11rCNOLutWDenZ6FfN3rF1ArmPX8GIrfCwDSYDRwpEBZ85JBK6nZasiUkcb22IX5NNd9qEmJWYJLabyeCYg0OQ-8_13MSErowqiXWSJwEG0blUqe-6DofvUzNWC20Ne-JmPhbnGX6xtXRyqr6mjARPV9FvAkwhY4T7hK7eryhflctoQ.t_b5QtC2pV9FYQbg6XTdKt86HyyYR4fuNQBR-tFSozc&dib_tag=se&keywords=mobiles&qid=1711878983&sprefix=mobile%2Caps%2C286&sr=8-18'},\n",
       " {'link': '/realme-Cosmic-Display-SUPERVOOC-Charger/dp/B0C78869XJ/ref=sr_1_19?crid=RGL5TWLCCFUP&dib=eyJ2IjoiMSJ9.Zq0Y7G2Dd8-IZ16QAD15i-PI_4BxV9qE03mhKPRq9Ozfg3n5XMbxps4phGwq11rCNOLutWDenZ6FfN3rF1ArmPX8GIrfCwDSYDRwpEBZ85JBK6nZasiUkcb22IX5NNd9qEmJWYJLabyeCYg0OQ-8_13MSErowqiXWSJwEG0blUqe-6DofvUzNWC20Ne-JmPhbnGX6xtXRyqr6mjARPV9FvAkwhY4T7hK7eryhflctoQ.t_b5QtC2pV9FYQbg6XTdKt86HyyYR4fuNQBR-tFSozc&dib_tag=se&keywords=mobiles&qid=1711878983&sprefix=mobile%2Caps%2C286&sr=8-19'},\n",
       " {'link': '/realme-5G%EF%BC%88Nebula-External-Segments-Supervooc/dp/B0CGDNJX9X/ref=sr_1_20?crid=RGL5TWLCCFUP&dib=eyJ2IjoiMSJ9.Zq0Y7G2Dd8-IZ16QAD15i-PI_4BxV9qE03mhKPRq9Ozfg3n5XMbxps4phGwq11rCNOLutWDenZ6FfN3rF1ArmPX8GIrfCwDSYDRwpEBZ85JBK6nZasiUkcb22IX5NNd9qEmJWYJLabyeCYg0OQ-8_13MSErowqiXWSJwEG0blUqe-6DofvUzNWC20Ne-JmPhbnGX6xtXRyqr6mjARPV9FvAkwhY4T7hK7eryhflctoQ.t_b5QtC2pV9FYQbg6XTdKt86HyyYR4fuNQBR-tFSozc&dib_tag=se&keywords=mobiles&qid=1711878983&sprefix=mobile%2Caps%2C286&sr=8-20'},\n",
       " {'link': '/sspa/click?ie=UTF8&spc=MTozODIzMjIwNjYyNzY4MDkwOjE3MTE4Nzg5ODM6c3BfYnRmOjMwMDE0MTI2MzE1NDkzMjo6MDo6&url=%2FGravity-Display-Dynamic-Speakers-Processor%2Fdp%2FB0CSJRH41L%2Fref%3Dsr_1_21_sspa%3Fcrid%3DRGL5TWLCCFUP%26dib%3DeyJ2IjoiMSJ9.Zq0Y7G2Dd8-IZ16QAD15i-PI_4BxV9qE03mhKPRq9Ozfg3n5XMbxps4phGwq11rCNOLutWDenZ6FfN3rF1ArmPX8GIrfCwDSYDRwpEBZ85JBK6nZasiUkcb22IX5NNd9qEmJWYJLabyeCYg0OQ-8_13MSErowqiXWSJwEG0blUqe-6DofvUzNWC20Ne-JmPhbnGX6xtXRyqr6mjARPV9FvAkwhY4T7hK7eryhflctoQ.t_b5QtC2pV9FYQbg6XTdKt86HyyYR4fuNQBR-tFSozc%26dib_tag%3Dse%26keywords%3Dmobiles%26qid%3D1711878983%26sprefix%3Dmobile%252Caps%252C286%26sr%3D8-21-spons%26sp_csd%3Dd2lkZ2V0TmFtZT1zcF9idGY%26psc%3D1'},\n",
       " {'link': '/sspa/click?ie=UTF8&spc=MTozODIzMjIwNjYyNzY4MDkwOjE3MTE4Nzg5ODM6c3BfYnRmOjMwMDEyNTA3MDM2OTEzMjo6MDo6&url=%2FOnePlus-Flowy-Emerald-256GB-Storage%2Fdp%2FB0CQPPZWVD%2Fref%3Dsr_1_22_sspa%3Fcrid%3DRGL5TWLCCFUP%26dib%3DeyJ2IjoiMSJ9.Zq0Y7G2Dd8-IZ16QAD15i-PI_4BxV9qE03mhKPRq9Ozfg3n5XMbxps4phGwq11rCNOLutWDenZ6FfN3rF1ArmPX8GIrfCwDSYDRwpEBZ85JBK6nZasiUkcb22IX5NNd9qEmJWYJLabyeCYg0OQ-8_13MSErowqiXWSJwEG0blUqe-6DofvUzNWC20Ne-JmPhbnGX6xtXRyqr6mjARPV9FvAkwhY4T7hK7eryhflctoQ.t_b5QtC2pV9FYQbg6XTdKt86HyyYR4fuNQBR-tFSozc%26dib_tag%3Dse%26keywords%3Dmobiles%26qid%3D1711878983%26sprefix%3Dmobile%252Caps%252C286%26sr%3D8-22-spons%26sp_csd%3Dd2lkZ2V0TmFtZT1zcF9idGY%26psc%3D1'}]"
      ]
     },
     "execution_count": 19,
     "metadata": {},
     "output_type": "execute_result"
    }
   ],
   "source": [
    "# step 1. create a scraper object\n",
    "home_url = 'https://www.amazon.in/s?k=mobiles&crid=RGL5TWLCCFUP&sprefix=mobile,aps,286'\n",
    "scraper = Scraper(home_url)\n",
    "# step 2. define the tags (Target and items are required)\n",
    "target = Tag(cls='s-main-slot s-result-list s-search-results sg-row')\n",
    "items = Tag(cls='puis-card-container')\n",
    "linkTag = Tag('a',cls='a-link-normal', output='href')\n",
    "# step 3. get the links\n",
    "scraper.get_repeating_page_data(target=target,items=items,link=linkTag, errors=True)"
   ]
  },
  {
   "cell_type": "code",
   "execution_count": null,
   "metadata": {},
   "outputs": [],
   "source": []
  }
 ],
 "metadata": {
  "kernelspec": {
   "display_name": "mlbatch24",
   "language": "python",
   "name": "python3"
  },
  "language_info": {
   "codemirror_mode": {
    "name": "ipython",
    "version": 3
   },
   "file_extension": ".py",
   "mimetype": "text/x-python",
   "name": "python",
   "nbconvert_exporter": "python",
   "pygments_lexer": "ipython3",
   "version": "3.11.8"
  }
 },
 "nbformat": 4,
 "nbformat_minor": 2
}
