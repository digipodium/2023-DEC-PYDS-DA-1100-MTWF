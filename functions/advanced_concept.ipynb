{
 "cells": [
  {
   "cell_type": "markdown",
   "metadata": {},
   "source": [
    "### function styles in python based on parameters(arguments)\n",
    "- positional arguments\n",
    "- required arguments\n",
    "- keyword arguments\n",
    "- default arguments\n",
    "- variable arguments\n",
    "- keyword variable arguments\n",
    "\n",
    "### lambda functions - anonymous functions\n"
   ]
  },
  {
   "cell_type": "code",
   "execution_count": null,
   "metadata": {},
   "outputs": [],
   "source": [
    "def multi(a, b): # required\n",
    "    return a * b"
   ]
  },
  {
   "cell_type": "code",
   "execution_count": null,
   "metadata": {},
   "outputs": [],
   "source": [
    "multi(10, 20) # positional arguments"
   ]
  },
  {
   "cell_type": "code",
   "execution_count": null,
   "metadata": {},
   "outputs": [],
   "source": [
    "multi(a=10, b=3) # keyword argument"
   ]
  },
  {
   "cell_type": "code",
   "execution_count": null,
   "metadata": {},
   "outputs": [],
   "source": [
    "multi(b=20, a=10) # keyword argument"
   ]
  },
  {
   "cell_type": "code",
   "execution_count": null,
   "metadata": {},
   "outputs": [],
   "source": [
    "def si(p, r, t): # required arguments\n",
    "    return p * r * t / 100"
   ]
  },
  {
   "cell_type": "code",
   "execution_count": null,
   "metadata": {},
   "outputs": [],
   "source": [
    "ans = si(10000, 3.5, 5) # works fine\n",
    "print(ans)\n",
    "# rule positional arguments first then keyword arguments\n",
    "ans = si(12000, t=5, r=3.5) # mixed style\n",
    "print(ans)\n",
    "# all keyword arguments\n",
    "ans = si(p=15000, t=5, r=3.5)\n",
    "print(ans)\n"
   ]
  },
  {
   "cell_type": "code",
   "execution_count": null,
   "metadata": {},
   "outputs": [],
   "source": [
    "def generate_cards():\n",
    "    symbol = ['♠️', '♥️', '♦️', '♣️']\n",
    "    cards = []\n",
    "    for s in symbol:\n",
    "        for i in list(range (2, 11))+['J', 'Q', 'K', 'A']:\n",
    "            cards.append(f'{s}{i}')\n",
    "    return cards"
   ]
  },
  {
   "cell_type": "code",
   "execution_count": null,
   "metadata": {},
   "outputs": [],
   "source": [
    "from random import sample\n",
    "# default argument\n",
    "def distribute(size=13):\n",
    "    return sample(generate_cards(), size)"
   ]
  },
  {
   "cell_type": "code",
   "execution_count": null,
   "metadata": {},
   "outputs": [],
   "source": [
    "distribute()"
   ]
  },
  {
   "cell_type": "code",
   "execution_count": null,
   "metadata": {},
   "outputs": [],
   "source": [
    "names = ['shivam','rajya', 'vansh','amita']\n",
    "for name in names:\n",
    "    print(f'🧑‍🦲{name} have {distribute()}')"
   ]
  },
  {
   "cell_type": "code",
   "execution_count": null,
   "metadata": {},
   "outputs": [],
   "source": [
    "# variable length arguments\n",
    "def multi(*nums):\n",
    "    temp = 1\n",
    "    for n in nums:\n",
    "        temp *= n\n",
    "    return temp\n",
    "\n",
    "# 2 x 3 x 5 \n",
    "print(multi(2, 3, 5))\n",
    "print(multi(2, 3, 5, 7, 11, 13, 17, 19, 23, 29))\n",
    "print(multi())\n",
    "print(multi(2,2,2,2,2,2,2,2,2,2))"
   ]
  },
  {
   "cell_type": "code",
   "execution_count": null,
   "metadata": {},
   "outputs": [],
   "source": [
    "# keyword variable length arguments\n",
    "def purchase(**products):\n",
    "    total = 0\n",
    "    for name, value in products.items():\n",
    "        print(f'🛒 {name:10} {value:.2f}')\n",
    "        total += value\n",
    "    print('-'* 20)\n",
    "    print(f'💸 Total Amount {total}')\n",
    "    "
   ]
  },
  {
   "cell_type": "code",
   "execution_count": null,
   "metadata": {},
   "outputs": [],
   "source": [
    "purchase(shoes=2000, suit=5000, watch=3000, shirt=1000, icecream=50)"
   ]
  },
  {
   "cell_type": "markdown",
   "metadata": {},
   "source": [
    "### anonymous functions -> lambda operator"
   ]
  },
  {
   "cell_type": "markdown",
   "metadata": {},
   "source": [
    "`f(x) = x**2 + x + 1`\n",
    "\n",
    "`f(10)`\n",
    "\n",
    "`g(x, y) = x**2 + y**2 + 2*x*y`\n",
    "\n",
    "`g(17, 2217)`"
   ]
  },
  {
   "cell_type": "code",
   "execution_count": null,
   "metadata": {},
   "outputs": [],
   "source": [
    "f = lambda x: x**2 + x + 1 "
   ]
  },
  {
   "cell_type": "code",
   "execution_count": null,
   "metadata": {},
   "outputs": [],
   "source": [
    "g = lambda x, y: x**2 + y**2 + 2*x*y"
   ]
  },
  {
   "cell_type": "code",
   "execution_count": null,
   "metadata": {},
   "outputs": [],
   "source": [
    "print(f(10), f(20))\n",
    "print(g(10, 20))\n",
    "print(g(1711, 2217))"
   ]
  },
  {
   "cell_type": "markdown",
   "metadata": {},
   "source": [
    "`(p**2 + b**2)**.5`"
   ]
  },
  {
   "cell_type": "code",
   "execution_count": 113,
   "metadata": {},
   "outputs": [
    {
     "data": {
      "text/plain": [
       "29.0"
      ]
     },
     "execution_count": 113,
     "metadata": {},
     "output_type": "execute_result"
    }
   ],
   "source": [
    "h = lambda p,b: (p**2 + b**2)**0.5\n",
    "h(20,21)"
   ]
  },
  {
   "cell_type": "code",
   "execution_count": null,
   "metadata": {},
   "outputs": [],
   "source": []
  }
 ],
 "metadata": {
  "kernelspec": {
   "display_name": "base",
   "language": "python",
   "name": "python3"
  },
  "language_info": {
   "codemirror_mode": {
    "name": "ipython",
    "version": 3
   },
   "file_extension": ".py",
   "mimetype": "text/x-python",
   "name": "python",
   "nbconvert_exporter": "python",
   "pygments_lexer": "ipython3",
   "version": "3.11.7"
  }
 },
 "nbformat": 4,
 "nbformat_minor": 2
}
