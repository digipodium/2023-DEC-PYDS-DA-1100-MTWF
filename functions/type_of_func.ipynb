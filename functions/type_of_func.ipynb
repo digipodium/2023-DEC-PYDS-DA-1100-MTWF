{
 "cells": [
  {
   "cell_type": "markdown",
   "metadata": {},
   "source": [
    "4 Types of functions on basis on signature\n",
    "- no parameter & no return value\n",
    "`fun() -> None`\n",
    "- func returning value but no parameter\n",
    "`fun() -> int`\n",
    "- parameterized function & no return value\n",
    "`fun(a,b) -> None`\n",
    "- parameterized function with return value\n",
    "`fun(a,b) -> str`"
   ]
  },
  {
   "cell_type": "code",
   "execution_count": null,
   "metadata": {},
   "outputs": [],
   "source": [
    "# func define\n",
    "def greetings():\n",
    "    print('☀️'*7)\n",
    "    print('☀️Good Morning☀️')\n",
    "    print('☀️'*7)"
   ]
  },
  {
   "cell_type": "code",
   "execution_count": null,
   "metadata": {},
   "outputs": [],
   "source": [
    "# calling function\n",
    "greetings()"
   ]
  },
  {
   "cell_type": "code",
   "execution_count": null,
   "metadata": {},
   "outputs": [],
   "source": [
    "from random import choice\n",
    "\n",
    "def generate_name():\n",
    "    fnames = ['🦇Bat', '🦅Bird', '🐁Mouse', '🐔Chicken','🐕Dog']\n",
    "    lnames = ['man','women','boy','girl']\n",
    "    return choice(fnames)+choice(lnames)"
   ]
  },
  {
   "cell_type": "code",
   "execution_count": null,
   "metadata": {},
   "outputs": [],
   "source": [
    "hero = generate_name()\n",
    "print(hero)"
   ]
  },
  {
   "cell_type": "code",
   "execution_count": null,
   "metadata": {},
   "outputs": [],
   "source": [
    "for i in range(10):\n",
    "    print(generate_name())"
   ]
  },
  {
   "cell_type": "code",
   "execution_count": null,
   "metadata": {},
   "outputs": [],
   "source": [
    "def text_cake(name, age):\n",
    "    layers = age // 2\n",
    "    s = 13\n",
    "    print('🕯️ '.center(s))\n",
    "    print(str('%'*3).center(s))\n",
    "    print(str('#'*5).center(s))\n",
    "    print(name.center(s, '~'))\n",
    "    for i in range(layers):print('~'*s)\n",
    "    for i in range(layers):print('#'*s)"
   ]
  },
  {
   "cell_type": "code",
   "execution_count": null,
   "metadata": {},
   "outputs": [],
   "source": [
    "text_cake('Ajay', 4)"
   ]
  },
  {
   "cell_type": "code",
   "execution_count": null,
   "metadata": {},
   "outputs": [],
   "source": [
    "def add(a, b):\n",
    "    return a + b\n",
    "\n",
    "ans = add(12, 13)\n",
    "new_ans = add(ans, 150)\n",
    "print(ans, new_ans)"
   ]
  },
  {
   "cell_type": "code",
   "execution_count": null,
   "metadata": {},
   "outputs": [],
   "source": [
    "add(12, 13) * add(12, 50) / add(23,32)"
   ]
  },
  {
   "cell_type": "code",
   "execution_count": null,
   "metadata": {},
   "outputs": [],
   "source": [
    "a = add(12, 13)\n",
    "b = add(12, 50)\n",
    "c = add(23,32)\n",
    "a * b / c"
   ]
  },
  {
   "cell_type": "code",
   "execution_count": 64,
   "metadata": {},
   "outputs": [],
   "source": [
    "def read_file(path):\n",
    "    with open(path, errors='ignore') as f:\n",
    "        content = f.read()\n",
    "    return content"
   ]
  },
  {
   "cell_type": "code",
   "execution_count": 70,
   "metadata": {},
   "outputs": [
    {
     "name": "stdout",
     "output_type": "stream",
     "text": [
      "18\n"
     ]
    }
   ],
   "source": [
    "out = read_file(r\"../sample.txt\")\n",
    "words = out.split()\n",
    "print(len(words))\n"
   ]
  },
  {
   "cell_type": "markdown",
   "metadata": {},
   "source": [
    "- create functions\n",
    "1. waf to return the compound interest for given P,T,R\n",
    "2. waf to return all the words starting with the letter given as param\n",
    "3. waf to return the factorial of a given number"
   ]
  },
  {
   "cell_type": "code",
   "execution_count": null,
   "metadata": {},
   "outputs": [],
   "source": []
  }
 ],
 "metadata": {
  "kernelspec": {
   "display_name": "base",
   "language": "python",
   "name": "python3"
  },
  "language_info": {
   "codemirror_mode": {
    "name": "ipython",
    "version": 3
   },
   "file_extension": ".py",
   "mimetype": "text/x-python",
   "name": "python",
   "nbconvert_exporter": "python",
   "pygments_lexer": "ipython3",
   "version": "3.11.7"
  }
 },
 "nbformat": 4,
 "nbformat_minor": 2
}
