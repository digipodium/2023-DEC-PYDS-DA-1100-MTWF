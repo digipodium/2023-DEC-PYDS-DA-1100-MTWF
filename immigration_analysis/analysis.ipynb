{
 "cells": [
  {
   "cell_type": "markdown",
   "metadata": {},
   "source": [
    "# importing the libraries"
   ]
  },
  {
   "cell_type": "code",
   "execution_count": null,
   "metadata": {},
   "outputs": [],
   "source": [
    "import pandas as pd\n",
    "import numpy as np\n",
    "import matplotlib.pyplot as plt\n",
    "import seaborn as sns\n",
    "import plotly.express as px"
   ]
  },
  {
   "cell_type": "markdown",
   "metadata": {},
   "source": [
    "setting pandas to display all columns (`optional`)"
   ]
  },
  {
   "cell_type": "code",
   "execution_count": null,
   "metadata": {},
   "outputs": [],
   "source": [
    "pd.set_option('display.max_columns', None)"
   ]
  },
  {
   "cell_type": "markdown",
   "metadata": {},
   "source": [
    "# loading the data"
   ]
  },
  {
   "cell_type": "code",
   "execution_count": null,
   "metadata": {},
   "outputs": [],
   "source": [
    "df = pd.read_excel('data/Canada.xlsx', \n",
    "                   sheet_name=1,\n",
    "                   skiprows=20, \n",
    "                   skipfooter=2)\n",
    "df"
   ]
  },
  {
   "cell_type": "markdown",
   "metadata": {},
   "source": [
    "# preprocessing the data\n",
    "- optional steps\n",
    "    - rename columns\n",
    "    - drop non-essential columns\n",
    "    - add new columns\n",
    "    - check and change data types\n",
    "    - check for missing values"
   ]
  },
  {
   "cell_type": "markdown",
   "metadata": {},
   "source": [
    "rename columns according to the problem statement"
   ]
  },
  {
   "cell_type": "code",
   "execution_count": null,
   "metadata": {},
   "outputs": [],
   "source": [
    "df = df.rename(columns={\n",
    "    'OdName': 'country',\n",
    "    'AreaName': 'continent',\n",
    "    'RegName': 'region',\n",
    "    'DevName': 'status',\n",
    "}).copy()"
   ]
  },
  {
   "cell_type": "markdown",
   "metadata": {},
   "source": [
    "drop non-essential columns"
   ]
  },
  {
   "cell_type": "code",
   "execution_count": null,
   "metadata": {},
   "outputs": [],
   "source": [
    "df.columns"
   ]
  },
  {
   "cell_type": "code",
   "execution_count": null,
   "metadata": {},
   "outputs": [],
   "source": [
    "cols_to_drop = ['Type', 'Coverage', 'AREA', 'REG', 'DEV']\n",
    "df = df.drop(columns=cols_to_drop)"
   ]
  },
  {
   "cell_type": "markdown",
   "metadata": {},
   "source": [
    "add columns - total"
   ]
  },
  {
   "cell_type": "code",
   "execution_count": null,
   "metadata": {},
   "outputs": [],
   "source": [
    "years = list(range(1980, 2014))\n",
    "df['total'] = df[years].sum(axis=1)\n",
    "df.head()"
   ]
  },
  {
   "cell_type": "markdown",
   "metadata": {},
   "source": [
    "check data type"
   ]
  },
  {
   "cell_type": "code",
   "execution_count": null,
   "metadata": {},
   "outputs": [],
   "source": [
    "df.info()"
   ]
  },
  {
   "cell_type": "markdown",
   "metadata": {},
   "source": [
    "check for missing data"
   ]
  },
  {
   "cell_type": "markdown",
   "metadata": {},
   "source": [
    "if we have missing data in column it will be shown in the bar chart, \n",
    "if there is no missing data, the bar chart will be empty"
   ]
  },
  {
   "cell_type": "code",
   "execution_count": null,
   "metadata": {},
   "outputs": [],
   "source": [
    "df.isnull().sum().plot(kind='bar', figsize=(10,1))\n",
    "# if we have missing data in column it will be shown in the bar chart, \n",
    "# if there is no missing data, the bar chart will be empty"
   ]
  },
  {
   "cell_type": "code",
   "execution_count": null,
   "metadata": {},
   "outputs": [],
   "source": [
    "df.country.tolist()"
   ]
  },
  {
   "cell_type": "code",
   "execution_count": null,
   "metadata": {},
   "outputs": [],
   "source": [
    "df = df.replace('United Kingdom of Great Britain and Northern Ireland','UK',)"
   ]
  },
  {
   "cell_type": "markdown",
   "metadata": {},
   "source": [
    "### create a function to load the data and preprocess it in one shot"
   ]
  },
  {
   "cell_type": "code",
   "execution_count": null,
   "metadata": {},
   "outputs": [],
   "source": [
    "def load_data():\n",
    "    # load the data\n",
    "    df = pd.read_excel('data/Canada.xlsx', \n",
    "                   sheet_name=1,\n",
    "                   skiprows=20, \n",
    "                   skipfooter=2)\n",
    "    # rename the columns\n",
    "    df = df.rename(columns={\n",
    "        'OdName': 'country',\n",
    "        'AreaName': 'continent',\n",
    "        'RegName': 'region',\n",
    "        'DevName': 'status',\n",
    "    })\n",
    "    # rename the values accordingly\n",
    "    df = df.replace('United Kingdom of Great Britain and Northern Ireland','UK',)\n",
    "    # drop unnecessary columns\n",
    "    cols_to_drop = ['Type', 'Coverage', 'AREA', 'REG', 'DEV']\n",
    "    df = df.drop(columns=cols_to_drop)\n",
    "    # create a new column to display the total\n",
    "    years = list(range(1980, 2014))\n",
    "    df['total'] = df[years].sum(axis=1)\n",
    "    return df # return the dataframe\n",
    "    "
   ]
  },
  {
   "cell_type": "code",
   "execution_count": null,
   "metadata": {},
   "outputs": [],
   "source": [
    "df = load_data()"
   ]
  },
  {
   "cell_type": "markdown",
   "metadata": {},
   "source": [
    "Analysis and visualization"
   ]
  },
  {
   "cell_type": "code",
   "execution_count": null,
   "metadata": {},
   "outputs": [],
   "source": [
    "df"
   ]
  },
  {
   "cell_type": "markdown",
   "metadata": {},
   "source": [
    "sorting"
   ]
  },
  {
   "cell_type": "code",
   "execution_count": null,
   "metadata": {},
   "outputs": [],
   "source": [
    "df = df.sort_values(by='total', ascending=False)"
   ]
  },
  {
   "cell_type": "code",
   "execution_count": null,
   "metadata": {},
   "outputs": [],
   "source": [
    "df[['country','total']]"
   ]
  },
  {
   "cell_type": "markdown",
   "metadata": {},
   "source": [
    "immigration pattern for the year 2000"
   ]
  },
  {
   "cell_type": "code",
   "execution_count": null,
   "metadata": {},
   "outputs": [],
   "source": [
    "def immigration_pattern_for_year(year = 2010):\n",
    "    return df[year].plot(\n",
    "        kind='hist', \n",
    "        figsize=(10,5),\n",
    "        bins = range(0, 35001, 1000), \n",
    "        xticks=range(0, 35001, 1000),\n",
    "        rot=90)\n",
    "    "
   ]
  },
  {
   "cell_type": "markdown",
   "metadata": {},
   "source": [
    "immigration trend country wise"
   ]
  },
  {
   "cell_type": "code",
   "execution_count": null,
   "metadata": {},
   "outputs": [],
   "source": [
    "def immigration_pattern_for_countries(size=100):\n",
    "    return df[['country','total']].head(size).plot(\n",
    "        kind='area',\n",
    "        figsize=(20,5),\n",
    "        x='country',\n",
    "        y='total',\n",
    "        rot=90,\n",
    "        xticks=range(0, size),\n",
    "    )"
   ]
  },
  {
   "cell_type": "markdown",
   "metadata": {},
   "source": [
    "immigration trend year wise"
   ]
  },
  {
   "cell_type": "code",
   "execution_count": null,
   "metadata": {},
   "outputs": [],
   "source": [
    "years = list(range(1980, 2014))\n",
    "a = df[years].sum().plot(\n",
    "    kind='line', \n",
    "    figsize=(10,5),\n",
    "    xticks=range(0, 34),\n",
    "    rot=90,\n",
    "    color='#ff9933',\n",
    "    marker='o', # `x, +, *, s, d, o, ., 1, 2, 3, 4, h, H, _`\n",
    "    ms=5, # or markersize=5\n",
    "    lw=10, # or linewidth=5\n",
    "    alpha=0.5, # transparency\n",
    "    linestyle='-', # or '--' or '-.' or ':'\n",
    "    markerfacecolor='blue',\n",
    "    markeredgecolor='yellow',\n",
    "    title = 'Year wise trend'\n",
    ")\n",
    "a.text(20, 100000, 'We see upward trend in\\nimmigration over the\\nyears 1980-2013', \n",
    "       fontsize=12, color='gray',\n",
    "       bbox=dict(facecolor='yellow', alpha=0.5, pad=10))"
   ]
  },
  {
   "cell_type": "markdown",
   "metadata": {},
   "source": [
    "comparing countries immigration trend"
   ]
  },
  {
   "cell_type": "code",
   "execution_count": null,
   "metadata": {},
   "outputs": [],
   "source": [
    "df.query('country == \"France\"')"
   ]
  },
  {
   "cell_type": "markdown",
   "metadata": {},
   "source": [
    "`optional` - fixed the numeric index to country name"
   ]
  },
  {
   "cell_type": "code",
   "execution_count": null,
   "metadata": {},
   "outputs": [],
   "source": [
    "df.set_index('country', inplace=True)\n",
    "df.head()"
   ]
  },
  {
   "cell_type": "code",
   "execution_count": null,
   "metadata": {},
   "outputs": [],
   "source": [
    "def country_wise_immigration(countries=['Japan','France']):\n",
    "    ax = df.loc[countries][years].T.plot(\n",
    "    figsize=(10,5),\n",
    "    legend=False,\n",
    "    marker='o', # `x, +, *, s, d, o, ., 1, 2, 3, 4, h, H, _`\n",
    "    ms=10, # or markersize=5\n",
    "    lw=5, # or linewidth=5\n",
    "    alpha=0.3, # transparency\n",
    "    linestyle='-', # or '--' or '-.' or ':'\n",
    "    markerfacecolor='blue',\n",
    "    markeredgecolor='yellow',\n",
    "    title = \" vs \".join(countries),\n",
    "    )\n",
    "    df.loc[countries][years].T.plot(kind='area', \n",
    "        ax=ax, \n",
    "        stacked=False,\n",
    "        xticks=range(0, 34),\n",
    "        rot=90\n",
    "    )"
   ]
  },
  {
   "cell_type": "code",
   "execution_count": null,
   "metadata": {},
   "outputs": [],
   "source": [
    "country_wise_immigration(['India','UK'])\n",
    "country_wise_immigration(['India','China'])\n",
    "country_wise_immigration(['India','Philippines'])\n"
   ]
  },
  {
   "cell_type": "code",
   "execution_count": null,
   "metadata": {},
   "outputs": [],
   "source": [
    "df['continent'].value_counts()"
   ]
  },
  {
   "cell_type": "code",
   "execution_count": null,
   "metadata": {},
   "outputs": [],
   "source": [
    "df['continent'].value_counts().plot(kind='pie', figsize=(5,5), autopct='%.1f%%')"
   ]
  },
  {
   "cell_type": "code",
   "execution_count": null,
   "metadata": {},
   "outputs": [],
   "source": [
    "df['region'].value_counts().plot(kind='bar', figsize=(10,5),)"
   ]
  },
  {
   "cell_type": "code",
   "execution_count": null,
   "metadata": {},
   "outputs": [],
   "source": [
    "df['status'].value_counts().plot(kind='pie', figsize=(5,5), autopct='%.1f%%')"
   ]
  },
  {
   "cell_type": "code",
   "execution_count": null,
   "metadata": {},
   "outputs": [],
   "source": [
    "df.groupby('status')['total'].sum()"
   ]
  },
  {
   "cell_type": "code",
   "execution_count": null,
   "metadata": {},
   "outputs": [],
   "source": [
    "df.groupby('status')['total'].std().plot(kind='pie', figsize=(5,5), autopct='%.1f%%')"
   ]
  },
  {
   "cell_type": "code",
   "execution_count": null,
   "metadata": {},
   "outputs": [],
   "source": [
    "cdf= df.groupby('continent')[[1980,1990,2000,2010]].max()\n",
    "cdf.T.plot(kind='line', figsize=(10,5),rot=90)"
   ]
  },
  {
   "cell_type": "code",
   "execution_count": null,
   "metadata": {},
   "outputs": [],
   "source": [
    "cdf= df.groupby('continent')[years].sum()\n",
    "cdf.T.plot(kind='area', figsize=(10,5),rot=90, stacked=False)"
   ]
  },
  {
   "cell_type": "code",
   "execution_count": 77,
   "metadata": {},
   "outputs": [
    {
     "data": {
      "text/html": [
       "<div>\n",
       "<style scoped>\n",
       "    .dataframe tbody tr th:only-of-type {\n",
       "        vertical-align: middle;\n",
       "    }\n",
       "\n",
       "    .dataframe tbody tr th {\n",
       "        vertical-align: top;\n",
       "    }\n",
       "\n",
       "    .dataframe thead th {\n",
       "        text-align: right;\n",
       "    }\n",
       "</style>\n",
       "<table border=\"1\" class=\"dataframe\">\n",
       "  <thead>\n",
       "    <tr style=\"text-align: right;\">\n",
       "      <th>status</th>\n",
       "      <th>Developed regions</th>\n",
       "      <th>Developing regions</th>\n",
       "    </tr>\n",
       "    <tr>\n",
       "      <th>continent</th>\n",
       "      <th></th>\n",
       "      <th></th>\n",
       "    </tr>\n",
       "  </thead>\n",
       "  <tbody>\n",
       "    <tr>\n",
       "      <th>Africa</th>\n",
       "      <td>NaN</td>\n",
       "      <td>618948.0</td>\n",
       "    </tr>\n",
       "    <tr>\n",
       "      <th>Asia</th>\n",
       "      <td>27707.0</td>\n",
       "      <td>3290087.0</td>\n",
       "    </tr>\n",
       "    <tr>\n",
       "      <th>Europe</th>\n",
       "      <td>1410947.0</td>\n",
       "      <td>NaN</td>\n",
       "    </tr>\n",
       "    <tr>\n",
       "      <th>Latin America and the Caribbean</th>\n",
       "      <td>NaN</td>\n",
       "      <td>765148.0</td>\n",
       "    </tr>\n",
       "    <tr>\n",
       "      <th>Northern America</th>\n",
       "      <td>241142.0</td>\n",
       "      <td>NaN</td>\n",
       "    </tr>\n",
       "    <tr>\n",
       "      <th>Oceania</th>\n",
       "      <td>34215.0</td>\n",
       "      <td>20959.0</td>\n",
       "    </tr>\n",
       "  </tbody>\n",
       "</table>\n",
       "</div>"
      ],
      "text/plain": [
       "status                           Developed regions  Developing regions\n",
       "continent                                                             \n",
       "Africa                                         NaN            618948.0\n",
       "Asia                                       27707.0           3290087.0\n",
       "Europe                                   1410947.0                 NaN\n",
       "Latin America and the Caribbean                NaN            765148.0\n",
       "Northern America                          241142.0                 NaN\n",
       "Oceania                                    34215.0             20959.0"
      ]
     },
     "execution_count": 77,
     "metadata": {},
     "output_type": "execute_result"
    }
   ],
   "source": [
    "df.pivot_table(index='continent', columns='status', values='total', aggfunc='sum')"
   ]
  },
  {
   "cell_type": "code",
   "execution_count": 78,
   "metadata": {},
   "outputs": [
    {
     "data": {
      "text/plain": [
       "array([<Axes: ylabel='Developed regions'>,\n",
       "       <Axes: ylabel='Developing regions'>], dtype=object)"
      ]
     },
     "execution_count": 78,
     "metadata": {},
     "output_type": "execute_result"
    },
    {
     "data": {
      "image/png": "[encoded data removed]",
      "text/plain": [
       "<Figure size 1000x500 with 2 Axes>"
      ]
     },
     "metadata": {},
     "output_type": "display_data"
    }
   ],
   "source": [
    "df.pivot_table(index='continent', \n",
    "            columns='status',\n",
    "            values='total', \n",
    "            aggfunc='sum').plot(kind='pie', \n",
    "                                subplots=True, \n",
    "                                figsize=(10,5), \n",
    "                                autopct='%.1f%%', \n",
    "                                legend=False)\n"
   ]
  },
  {
   "cell_type": "code",
   "execution_count": null,
   "metadata": {},
   "outputs": [],
   "source": []
  }
 ],
 "metadata": {
  "kernelspec": {
   "display_name": "mlbatch24",
   "language": "python",
   "name": "python3"
  },
  "language_info": {
   "codemirror_mode": {
    "name": "ipython",
    "version": 3
   },
   "file_extension": ".py",
   "mimetype": "text/x-python",
   "name": "python",
   "nbconvert_exporter": "python",
   "pygments_lexer": "ipython3",
   "version": "3.11.8"
  }
 },
 "nbformat": 4,
 "nbformat_minor": 2
}
