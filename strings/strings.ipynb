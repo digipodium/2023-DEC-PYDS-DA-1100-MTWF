{
 "cells": [
  {
   "cell_type": "markdown",
   "metadata": {},
   "source": [
    "# string\n",
    "- create\n",
    "- index and slice\n",
    "- methods (predifined)"
   ]
  },
  {
   "cell_type": "code",
   "execution_count": null,
   "metadata": {},
   "outputs": [],
   "source": [
    "a = 'apple'\n",
    "b = \"banana\"\n",
    "c = \"\"\"chocolate\n",
    "and \n",
    "vanilla\"\"\""
   ]
  },
  {
   "cell_type": "code",
   "execution_count": null,
   "metadata": {},
   "outputs": [],
   "source": [
    "print(a)\n",
    "print(b)\n",
    "print(c)"
   ]
  },
  {
   "cell_type": "code",
   "execution_count": null,
   "metadata": {},
   "outputs": [],
   "source": [
    "d = 1.2345\n",
    "d = str(d) # convert to string (casting)\n",
    "e = '|-|' * 5 # string duplication\n",
    "print(e)"
   ]
  },
  {
   "cell_type": "code",
   "execution_count": null,
   "metadata": {},
   "outputs": [],
   "source": [
    "# string concatenation\n",
    "'he' + 'll' + 'o🍕🍔🌮'"
   ]
  },
  {
   "cell_type": "markdown",
   "metadata": {},
   "source": [
    "indexing"
   ]
  },
  {
   "cell_type": "code",
   "execution_count": null,
   "metadata": {},
   "outputs": [],
   "source": [
    "a = 'calligraphy' # string indexing\n",
    "print(len(a))\n",
    "# positive indexing\n",
    "print(a[0]) # index 0\n",
    "print(a[1]) # index 1\n",
    "print(a[2]) # index 2\n",
    "print(a[5]) # index 5\n",
    "print(a[10]) # index 11"
   ]
  },
  {
   "cell_type": "code",
   "execution_count": null,
   "metadata": {},
   "outputs": [],
   "source": [
    "# negative indexing (-1 is the last index)\n",
    "print(a[-1]) # last index\n",
    "print(a[-2]) \n",
    "print(a[-3])\n",
    "print(a[-4])\n",
    "print(a[-11])"
   ]
  },
  {
   "cell_type": "markdown",
   "metadata": {},
   "source": [
    "note: reverse loop in python using range()"
   ]
  },
  {
   "cell_type": "code",
   "execution_count": null,
   "metadata": {},
   "outputs": [],
   "source": [
    "for i in range(10, 0, -1):\n",
    "    print(i, a[i])"
   ]
  },
  {
   "cell_type": "code",
   "execution_count": null,
   "metadata": {},
   "outputs": [],
   "source": [
    "b = 'Alexander'\n",
    "print(b[0], b[1], b[2], b[3]) # slow and boring\n",
    "# slicing\n",
    "print(b[0:4])\n",
    "print(b[4:10])"
   ]
  },
  {
   "cell_type": "code",
   "execution_count": null,
   "metadata": {},
   "outputs": [],
   "source": [
    "name = 'Vijay Deenanath Chauhan'\n",
    "fname = name[:5] # starts from 0 and stop at 5\n",
    "mname = name[6:-8] # starts from 6 and stop at -8\n",
    "lname = name[-7:] # starts from -7 and stop at the end\n",
    "print(fname)\n",
    "print(mname)\n",
    "print(lname)"
   ]
  },
  {
   "cell_type": "code",
   "execution_count": 63,
   "metadata": {},
   "outputs": [
    {
     "name": "stdout",
     "output_type": "stream",
     "text": [
      "nahuahC htananeeD yajiV\n"
     ]
    }
   ],
   "source": [
    "# reverse a string\n",
    "print(name[::-1]) # start from the end and stop at the beginning"
   ]
  },
  {
   "cell_type": "code",
   "execution_count": 66,
   "metadata": {},
   "outputs": [
    {
     "name": "stdout",
     "output_type": "stream",
     "text": [
      "10000\n"
     ]
    }
   ],
   "source": [
    "amount = \"$10000\"\n",
    "amount = int(amount[1:])\n",
    "print(amount)"
   ]
  },
  {
   "cell_type": "code",
   "execution_count": null,
   "metadata": {},
   "outputs": [],
   "source": []
  }
 ],
 "metadata": {
  "kernelspec": {
   "display_name": "base",
   "language": "python",
   "name": "python3"
  },
  "language_info": {
   "codemirror_mode": {
    "name": "ipython",
    "version": 3
   },
   "file_extension": ".py",
   "mimetype": "text/x-python",
   "name": "python",
   "nbconvert_exporter": "python",
   "pygments_lexer": "ipython3",
   "version": "3.11.7"
  }
 },
 "nbformat": 4,
 "nbformat_minor": 2
}
